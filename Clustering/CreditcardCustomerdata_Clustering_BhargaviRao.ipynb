{
 "cells": [
  {
   "cell_type": "markdown",
   "metadata": {},
   "source": [
    "###### Objective"
   ]
  },
  {
   "cell_type": "markdown",
   "metadata": {},
   "source": [
    "To analyze the All life credit card customer base to understand the glitches in the customer care services offered by them to their customers and help them upgrade their service delivery model."
   ]
  },
  {
   "cell_type": "markdown",
   "metadata": {},
   "source": [
    "###### Set the working directory"
   ]
  },
  {
   "cell_type": "code",
   "execution_count": null,
   "metadata": {},
   "outputs": [],
   "source": [
    "import os"
   ]
  },
  {
   "cell_type": "code",
   "execution_count": null,
   "metadata": {},
   "outputs": [],
   "source": [
    "os.getcwd()"
   ]
  },
  {
   "cell_type": "markdown",
   "metadata": {},
   "source": [
    "###### Importing the required libraries"
   ]
  },
  {
   "cell_type": "code",
   "execution_count": null,
   "metadata": {},
   "outputs": [],
   "source": [
    "import pandas as pd\n",
    "import numpy as np\n",
    "\n",
    "## Visualization libraries\n",
    "import matplotlib.pyplot as plt \n",
    "%matplotlib inline\n",
    "import seaborn as sns\n",
    "\n",
    "# For missing values\n",
    "import missingno as msno\n",
    "\n",
    "# Model libraries\n",
    "from sklearn.model_selection import train_test_split\n",
    "from sklearn.cluster import KMeans\n",
    "\n",
    "# Ignore warnings \n",
    "import warnings\n",
    "pd.options.display.max_columns = None\n",
    "pd.options.display.max_rows = None\n",
    "warnings.filterwarnings(\"ignore\")"
   ]
  },
  {
   "cell_type": "markdown",
   "metadata": {},
   "source": [
    "###### Read the dataset"
   ]
  },
  {
   "cell_type": "code",
   "execution_count": null,
   "metadata": {},
   "outputs": [],
   "source": [
    "data=pd.read_excel('Credit Card Customer Data.xlsx')"
   ]
  },
  {
   "cell_type": "code",
   "execution_count": null,
   "metadata": {},
   "outputs": [],
   "source": [
    "data1=pd.read_excel('Credit Card Customer Data.xlsx')"
   ]
  },
  {
   "cell_type": "code",
   "execution_count": null,
   "metadata": {},
   "outputs": [],
   "source": [
    "data.head()"
   ]
  },
  {
   "cell_type": "code",
   "execution_count": null,
   "metadata": {},
   "outputs": [],
   "source": [
    "data.shape"
   ]
  },
  {
   "cell_type": "code",
   "execution_count": null,
   "metadata": {},
   "outputs": [],
   "source": [
    "data.describe().transpose()"
   ]
  },
  {
   "cell_type": "code",
   "execution_count": null,
   "metadata": {},
   "outputs": [],
   "source": [
    "data.nunique()"
   ]
  },
  {
   "cell_type": "code",
   "execution_count": null,
   "metadata": {},
   "outputs": [],
   "source": [
    "data.columns"
   ]
  },
  {
   "cell_type": "markdown",
   "metadata": {},
   "source": [
    "##### Basic checks on the data before getting it ready for analysis "
   ]
  },
  {
   "cell_type": "code",
   "execution_count": null,
   "metadata": {},
   "outputs": [],
   "source": [
    "def basic_checks(df):\n",
    "    \n",
    "    print('='*50)\n",
    "    print('Shape of the dataframe is: \\n',df.shape)\n",
    "    print('='*50)\n",
    "    print('Basic stats for the data: \\n',df.describe())\n",
    "    print('='*50)\n",
    "    print('Data type and info :')\n",
    "    print(df.info())\n",
    "    print('='*50)\n",
    "    print('Missing value information : \\n',df.isnull().any())\n",
    "    print('='*50)\n",
    "    print('Sum of missing values if any : \\n',df.isnull().sum())"
   ]
  },
  {
   "cell_type": "code",
   "execution_count": null,
   "metadata": {},
   "outputs": [],
   "source": [
    "basic_checks(data)"
   ]
  },
  {
   "cell_type": "markdown",
   "metadata": {},
   "source": [
    "###### Missing values matrix"
   ]
  },
  {
   "cell_type": "code",
   "execution_count": null,
   "metadata": {},
   "outputs": [],
   "source": [
    "msno.matrix(data)"
   ]
  },
  {
   "cell_type": "markdown",
   "metadata": {},
   "source": [
    "No missing values in the dataset,in any of the variables"
   ]
  },
  {
   "cell_type": "markdown",
   "metadata": {},
   "source": [
    "###### Dropping the unnecessary columns"
   ]
  },
  {
   "cell_type": "markdown",
   "metadata": {},
   "source": [
    "Drop the serial number from the analysis"
   ]
  },
  {
   "cell_type": "code",
   "execution_count": null,
   "metadata": {},
   "outputs": [],
   "source": [
    "data.drop(['Sl_No','Customer Key'],axis=1,inplace=True)"
   ]
  },
  {
   "cell_type": "code",
   "execution_count": null,
   "metadata": {},
   "outputs": [],
   "source": [
    "data.head()"
   ]
  },
  {
   "cell_type": "code",
   "execution_count": null,
   "metadata": {},
   "outputs": [],
   "source": [
    "data1.drop(['Sl_No'],axis=1,inplace=True)"
   ]
  },
  {
   "cell_type": "code",
   "execution_count": null,
   "metadata": {},
   "outputs": [],
   "source": [
    "data1.head()"
   ]
  },
  {
   "cell_type": "markdown",
   "metadata": {},
   "source": [
    "###### Plotting the correlations "
   ]
  },
  {
   "cell_type": "code",
   "execution_count": null,
   "metadata": {},
   "outputs": [],
   "source": [
    "data.corr()"
   ]
  },
  {
   "cell_type": "code",
   "execution_count": null,
   "metadata": {},
   "outputs": [],
   "source": [
    "plt.figure(figsize=(10,8))\n",
    "\n",
    "sns.heatmap(data.corr(),\n",
    "            annot=True,\n",
    "            linewidths=.5,\n",
    "            center=0,\n",
    "            cbar=False,\n",
    "            cmap=\"YlGnBu\")\n",
    "\n",
    "plt.show()"
   ]
  },
  {
   "cell_type": "code",
   "execution_count": null,
   "metadata": {},
   "outputs": [],
   "source": [
    "\n",
    "sns.pairplot(data,diag_kind='kde');"
   ]
  },
  {
   "cell_type": "code",
   "execution_count": null,
   "metadata": {},
   "outputs": [],
   "source": [
    "############################### EDA PART 1 ##################################"
   ]
  },
  {
   "cell_type": "markdown",
   "metadata": {},
   "source": [
    "\n",
    "#### EDA - Part 1 \n",
    "\n",
    "**Basic checks**\n",
    "\n",
    "1.There are 660 unique records in the dataset ,with 655 unique customer key records .Implying there’s duplication of customer key records .About 5 customer key records have been repeated .10 of the total records could indicate a data entry issue .\n",
    "2.All the variables in the data are in int data type \n",
    "\n",
    "**Basic stats**\n",
    "\n",
    "1.There are 660 records and 7 variables in the dataset\n",
    "2.The average credit limit for the dataset is 34574.2 and the median is at 18000,clearly indicating the data is skewed.\n",
    "3.The maximum credit limit is at 200000\n",
    "4.The clients in the dataset hold at least one credit card and a maximum of 10\n",
    "5.The median number of credit cards is at 5 ,the credit card data distribution isn’t skewed.\n",
    "6.Maximum number of bank visits is at 5 and minimum at 0 ,indicating there is a customer base that never visits the bank\n",
    "7.The bank visit data is not skewed.\n",
    "8.Maximum online visits are 15 and mean number of online visits are 2.5,there is also a customer base which never makes online visits.\n",
    "9.Maximum calls made by the customer is 10 and minimum is 0 \n",
    "\n",
    "\n",
    "**Missing values**\n",
    "\n",
    "There are no missing values in the dataset \n",
    "\n",
    "**Correlation matrix**\n",
    "\n",
    "1.There seems to be a high correlation between average credit limit and total credit cards\n",
    "2.There is also some correlation between total online visits and average credit limit \n",
    "3.Total calls made and average credit limit are negatively correlated ,implying higher the credit limit lesser the number of calls\n",
    "4.there is a negative correlation between number of bank visits and the number of online visits , I.e the data with higher number of online visits has lower number of bank visits \n",
    "5.Total credit cards and calls made are negatively correlated indicating clients with higher number of credit cards have lower number of calls to the bank \n",
    "6.Calls made and average credit limit are negatively correlated \n",
    "\n",
    "Correlation doesn’t imply causation ,so let us dig into the details of how each variables may be related and if we could have a derived metric from the variables.\n",
    "\n",
    "**Possible clusters in the data**\n",
    "\n",
    "1.We see that clearly a few of the variables show a tendency to group together ,if we look at the KDE plots \n",
    "2.Clearly we see 3 or more peaks for this data ,but let’s look at it in detail further.\n",
    "\n"
   ]
  },
  {
   "cell_type": "markdown",
   "metadata": {},
   "source": [
    "###### Univariate and Bivariate analysis "
   ]
  },
  {
   "cell_type": "code",
   "execution_count": null,
   "metadata": {},
   "outputs": [],
   "source": [
    "def plots(variable):\n",
    "    fig=plt.figure(figsize=(15,5))\n",
    "    plt.subplot(131)\n",
    "    sns.distplot(data[variable])\n",
    "    plt.subplot(132)\n",
    "    sns.boxplot(x=data[variable])\n",
    "    \n",
    "   "
   ]
  },
  {
   "cell_type": "code",
   "execution_count": null,
   "metadata": {},
   "outputs": [],
   "source": [
    "plots('Avg_Credit_Limit')"
   ]
  },
  {
   "cell_type": "markdown",
   "metadata": {},
   "source": [
    "A lot of outliers here as we can see and the data is right skewed "
   ]
  },
  {
   "cell_type": "code",
   "execution_count": null,
   "metadata": {},
   "outputs": [],
   "source": [
    "def CL_cat(x):\n",
    "    if(x>0)&(x<=50000):\n",
    "        return 0\n",
    "    else:\n",
    "        if(x>50000)&(x<=100000):\n",
    "            return 1\n",
    "        else:\n",
    "            if(x>100000):\n",
    "                return 2\n",
    "           "
   ]
  },
  {
   "cell_type": "code",
   "execution_count": null,
   "metadata": {},
   "outputs": [],
   "source": [
    "data['CL_cat']=data['Avg_Credit_Limit'].apply(CL_cat)"
   ]
  },
  {
   "cell_type": "code",
   "execution_count": null,
   "metadata": {},
   "outputs": [],
   "source": [
    "sns.countplot('CL_cat',data=data)\n",
    "#plt.xticks(rotation=90)"
   ]
  },
  {
   "cell_type": "code",
   "execution_count": null,
   "metadata": {},
   "outputs": [],
   "source": [
    "a=data[data['Avg_Credit_Limit']>=100000].count()/data.shape[0]\n",
    "\n",
    "print(a*100)\n",
    "\n",
    "b=data[data['Avg_Credit_Limit']<100000].count()/data.shape[0]\n",
    "\n",
    "print(b*100)\n"
   ]
  },
  {
   "cell_type": "code",
   "execution_count": null,
   "metadata": {},
   "outputs": [],
   "source": [
    "plots('Total_Credit_Cards')"
   ]
  },
  {
   "cell_type": "code",
   "execution_count": null,
   "metadata": {},
   "outputs": [],
   "source": [
    "a=data[data['Total_Credit_Cards']>=7].count()/data.shape[0]\n",
    "print(a*100)"
   ]
  },
  {
   "cell_type": "code",
   "execution_count": null,
   "metadata": {},
   "outputs": [],
   "source": [
    "sns.countplot(data['Total_Credit_Cards'])"
   ]
  },
  {
   "cell_type": "code",
   "execution_count": null,
   "metadata": {},
   "outputs": [],
   "source": [
    "plots('Total_visits_bank')"
   ]
  },
  {
   "cell_type": "code",
   "execution_count": null,
   "metadata": {},
   "outputs": [],
   "source": [
    "sns.countplot(data['Total_visits_bank'])"
   ]
  },
  {
   "cell_type": "code",
   "execution_count": null,
   "metadata": {},
   "outputs": [],
   "source": [
    "a=data[data['Total_visits_bank']==0].count()/data.shape[0]\n",
    "print(a*100)\n",
    "\n",
    "b=data[data['Total_visits_bank']<=2].count()/data.shape[0]\n",
    "print(b*100)\n",
    "\n",
    "c=data[data['Total_visits_bank']>3].count()/data.shape[0]\n",
    "print(c*100)"
   ]
  },
  {
   "cell_type": "code",
   "execution_count": null,
   "metadata": {},
   "outputs": [],
   "source": [
    "plots('Total_visits_online')"
   ]
  },
  {
   "cell_type": "code",
   "execution_count": null,
   "metadata": {},
   "outputs": [],
   "source": [
    "a=data[data['Total_visits_online']==0]['Total_visits_online'].count()/data.shape[0]\n",
    "print('Total online visits = 0 :',a*100)\n",
    "\n",
    "b=data[data['Total_visits_online']<=2]['Total_visits_online'].count()/data.shape[0]\n",
    "print('Total online visits <=2 :',b*100)\n",
    "\n",
    "c=data[data['Total_visits_online']>6]['Total_visits_online'].count()/data.shape[0]\n",
    "print('Total online visits >6:',c*100)"
   ]
  },
  {
   "cell_type": "code",
   "execution_count": null,
   "metadata": {},
   "outputs": [],
   "source": [
    "def OV_cat(x):\n",
    "    if (x==0):\n",
    "        return 0\n",
    "    else:\n",
    "            if (x>0)&(x<=6):\n",
    "                return 1\n",
    "            else:\n",
    "                if(x>6):\n",
    "                    return 2"
   ]
  },
  {
   "cell_type": "code",
   "execution_count": null,
   "metadata": {},
   "outputs": [],
   "source": [
    "data['OV_cat']=data['Total_visits_online'].apply(OV_cat)"
   ]
  },
  {
   "cell_type": "code",
   "execution_count": null,
   "metadata": {},
   "outputs": [],
   "source": [
    "sns.countplot(data['OV_cat'])"
   ]
  },
  {
   "cell_type": "code",
   "execution_count": null,
   "metadata": {},
   "outputs": [],
   "source": [
    "plots('Total_calls_made')"
   ]
  },
  {
   "cell_type": "code",
   "execution_count": null,
   "metadata": {},
   "outputs": [],
   "source": [
    "sns.countplot(data['Total_calls_made'])"
   ]
  },
  {
   "cell_type": "code",
   "execution_count": null,
   "metadata": {},
   "outputs": [],
   "source": [
    "a=data[data['Total_calls_made']==0]['Total_calls_made'].count()/data.shape[0]\n",
    "print('Total_calls_made = 0 :',a*100)\n",
    "\n",
    "b=data[data['Total_calls_made']<=2]['Total_calls_made'].count()/data.shape[0]\n",
    "print('Total_calls_made <=2 :',b*100)\n",
    "\n",
    "d=data[data['Total_calls_made']>6]['Total_calls_made'].count()/data.shape[0]\n",
    "print('Total_calls_made >6:',d*100)\n"
   ]
  },
  {
   "cell_type": "code",
   "execution_count": null,
   "metadata": {},
   "outputs": [],
   "source": [
    "data.columns"
   ]
  },
  {
   "cell_type": "code",
   "execution_count": null,
   "metadata": {},
   "outputs": [],
   "source": [
    "data.drop(['CL_cat','OV_cat'],axis=1,inplace=True)"
   ]
  },
  {
   "cell_type": "markdown",
   "metadata": {},
   "source": [
    "###### Multivariate plots "
   ]
  },
  {
   "cell_type": "code",
   "execution_count": null,
   "metadata": {},
   "outputs": [],
   "source": [
    "############### Average CreditLimit vs (Bank Visits,TotalCredit Cards) ######################"
   ]
  },
  {
   "cell_type": "code",
   "execution_count": null,
   "metadata": {},
   "outputs": [],
   "source": [
    "fig, ax = plt.subplots(figsize=(10,7))\n",
    "sns.scatterplot(data=data,x='Avg_Credit_Limit',y='Total_visits_bank',hue='Total_Credit_Cards')\n",
    "plt.xticks(rotation=90);\n",
    "ax.set_title(\"Average CreditLimit vs (Bank Visits,TotalCredit Cards)\")\n",
    "ax.legend(loc=\"upper left\", bbox_to_anchor=(1,1))\n",
    "plt.show()"
   ]
  },
  {
   "cell_type": "code",
   "execution_count": null,
   "metadata": {},
   "outputs": [],
   "source": [
    "############### Average CreditLimit vs (Online Visits,TotalCalls Made) ######################"
   ]
  },
  {
   "cell_type": "code",
   "execution_count": null,
   "metadata": {},
   "outputs": [],
   "source": [
    "fig, ax = plt.subplots(figsize=(10,7))\n",
    "sns.scatterplot(data=data,x='Avg_Credit_Limit',y='Total_visits_online',hue='Total_calls_made')\n",
    "plt.xticks(rotation=90);\n",
    "ax.set_title(\"Average CreditLimit vs (Online Visits,TotalCalls Made)\")\n",
    "ax.legend(loc=\"upper left\", bbox_to_anchor=(1,1))\n",
    "plt.show()"
   ]
  },
  {
   "cell_type": "code",
   "execution_count": null,
   "metadata": {},
   "outputs": [],
   "source": [
    "sns.scatterplot(data=data,x='Avg_Credit_Limit',y='Total_calls_made')\n",
    "plt.xticks(rotation=90);"
   ]
  },
  {
   "cell_type": "code",
   "execution_count": null,
   "metadata": {},
   "outputs": [],
   "source": [
    "sns.scatterplot(data=data,x='Total_Credit_Cards',y='Total_visits_bank')\n",
    "plt.xticks(rotation=90);"
   ]
  },
  {
   "cell_type": "markdown",
   "metadata": {},
   "source": [
    "People with credit cards between 4&7 seem to visit the bank more"
   ]
  },
  {
   "cell_type": "code",
   "execution_count": null,
   "metadata": {},
   "outputs": [],
   "source": [
    "sns.scatterplot(data=data,x='Total_Credit_Cards',y='Total_visits_online')\n",
    "plt.xticks(rotation=90);"
   ]
  },
  {
   "cell_type": "code",
   "execution_count": null,
   "metadata": {},
   "outputs": [],
   "source": [
    "sns.scatterplot(data=data,x='Total_Credit_Cards',y='Total_calls_made')\n",
    "plt.xticks(rotation=90);"
   ]
  },
  {
   "cell_type": "code",
   "execution_count": null,
   "metadata": {},
   "outputs": [],
   "source": [
    "sns.scatterplot(data=data,x='Total_visits_bank',y='Total_visits_online')\n",
    "plt.xticks(rotation=90);"
   ]
  },
  {
   "cell_type": "code",
   "execution_count": null,
   "metadata": {},
   "outputs": [],
   "source": [
    "sns.scatterplot(data=data,x='Total_visits_online',y='Total_calls_made')\n",
    "plt.xticks(rotation=90); "
   ]
  },
  {
   "cell_type": "code",
   "execution_count": null,
   "metadata": {},
   "outputs": [],
   "source": [
    "########################## EDA - PART 2 ######################"
   ]
  },
  {
   "cell_type": "markdown",
   "metadata": {},
   "source": [
    "###### EDA - Part 2 \n",
    "\n",
    "\n",
    "**Univariate Analysis** \n",
    "\n",
    "Average Credit Limit \n",
    "\n",
    "1.Most of the data lies between 0-100000 average credit limit \n",
    "2.The distribution is right skewed and there are outliers in the data where credit limit is greater than 100000.\n",
    "3.6% of the data is above 100000 credit limit and the remainder 93% is below 100000 credit limit \n",
    "\n",
    "Total Credit Cards \n",
    "\n",
    "1.The distribution is somewhat even and shows no outliers\n",
    "2.The range lies between 1-10 credit cards \n",
    "3.21% of the users have more than 7 credit cards \n",
    "\n",
    "Total Bank visits\n",
    "\n",
    "1.The distribution is somewhat even and shows no outliers\n",
    "2.The range lies between 0-5 \n",
    "3.15% of the card holders never visited the bank and 56% of the card holders visited the bank <=2 times  , 29% of the customers visited the bank fore than 3 times \n",
    "\n",
    "Total Online visits \n",
    "\n",
    "1.The distribution is right skewed and has a few outliers \n",
    "2.22% of the customers have never visited online platforms ,67% of the customers have visited online less than 2 times and 8% customers visited the online platform more than 6 times\n",
    "\n",
    "Total calls made\n",
    "\n",
    "1.The distribution is some what even with no outliers \n",
    "214.6% of the clients made no calls at all to the bank and 42% of the customers made less than 2 calls \n",
    "3.19% of the customers had called more than 6 times\n",
    "\n",
    "**Multivariate analysis** \n",
    "\n",
    "Average CreditLimit vs (Bank Visits,TotalCredit Cards)\n",
    "\n",
    "1.Those that have an average credit limit>100000 and more than 6 credit cards, don’t seem to be visiting the bank more than once\n",
    "2.The highest number of bank visits are by persons who have 0-75000 credit limit\n",
    "\n",
    "Average CreditLimit vs (Online Visits,TotalCalls Made)\n",
    "\n",
    "1.Those with higher credit limit have a higher online visit frequency than those with lower credit limit.\n",
    "\n",
    "2.Also,those with higher credit seem to be making lesser number of calls(0-4) compared to those with lower credit limit .\n",
    "\n",
    "3.Clearly there's 2 distinct groups here where total online visits <6 are those with credit limit <75000 Those with credit limit >100000 have more online visits recorded( 8 or above)\n",
    "\n",
    "A few points more from the Scatterplots \n",
    "\n",
    "1.More numbers bank visits are from clients who have 4-7 cards \n",
    "2.The more the number of credit cards the more the number of online visits for banking ,lesser cards show little no activity online \n",
    "3.Those that visit the bank less ,have online visits more\n",
    "4.More calls were made by customers who held 1-4 credit cards\n",
    "5.Total calls made by the customer who visited the bank online  more than 7 times were much lesser than those who had lesser online visits.\n"
   ]
  },
  {
   "cell_type": "code",
   "execution_count": null,
   "metadata": {},
   "outputs": [],
   "source": [
    "################################# DATA PREPROCESSING ##################################"
   ]
  },
  {
   "cell_type": "markdown",
   "metadata": {},
   "source": [
    "###### Data Preprocessing "
   ]
  },
  {
   "cell_type": "markdown",
   "metadata": {},
   "source": [
    "**Dropping the unnecessary variables** \n",
    "\n",
    "Since we had introduced a few categorical variables during EDA ,we will drop those unnecessary variables before proceeding with scaling & modelling the data\n",
    "\n",
    "**Outlier Treatment** \n",
    "\n",
    "A couple of variable like Average credit limit and Total Online visits have outliers which would be treated as the Clustering alogorithms are very sensitive to outliers.The remainder of the variables dont need to be treated for outliers.\n",
    "\n",
    "**Scaling the data** \n",
    "1. Import the necessary variables for scaling \n",
    "2. Apply scaling to the dataframe to bring all variables of teh data to the same scale.\n",
    "\n",
    "**Hopkins Statistic**\n",
    "\n",
    "We apply the hopkins statistic to see the score for tendency of clustering.A value for H higher than 0.75 indicates a clustering tendency at the 90% confidence level\n"
   ]
  },
  {
   "cell_type": "markdown",
   "metadata": {},
   "source": [
    "###### Treat Outliers"
   ]
  },
  {
   "cell_type": "code",
   "execution_count": null,
   "metadata": {},
   "outputs": [],
   "source": [
    "def outlier(x):\n",
    "    sorted(x)\n",
    "    Q1,Q3=np.percentile(x,[25,75])\n",
    "    IQR=Q3-Q1\n",
    "    lower_range=Q1-(1.5*IQR)\n",
    "    upper_range=Q3+(1.5*IQR)\n",
    "    return lower_range,upper_range"
   ]
  },
  {
   "cell_type": "code",
   "execution_count": null,
   "metadata": {},
   "outputs": [],
   "source": [
    "outlier(data1['Avg_Credit_Limit'])"
   ]
  },
  {
   "cell_type": "code",
   "execution_count": null,
   "metadata": {},
   "outputs": [],
   "source": [
    "lowerbound,upperbound=outlier(data['Avg_Credit_Limit'])"
   ]
  },
  {
   "cell_type": "code",
   "execution_count": null,
   "metadata": {},
   "outputs": [],
   "source": [
    "data[(data['Avg_Credit_Limit']<lowerbound)|(data['Avg_Credit_Limit']>upperbound)].count()"
   ]
  },
  {
   "cell_type": "code",
   "execution_count": null,
   "metadata": {},
   "outputs": [],
   "source": [
    "data['Avg_Credit_Limit']=np.where(data['Avg_Credit_Limit']>upperbound,105000,data['Avg_Credit_Limit'])\n"
   ]
  },
  {
   "cell_type": "code",
   "execution_count": null,
   "metadata": {},
   "outputs": [],
   "source": [
    "data[(data['Total_visits_online']<lowerbound)|(data['Total_visits_online']>upperbound)].count()"
   ]
  },
  {
   "cell_type": "code",
   "execution_count": null,
   "metadata": {},
   "outputs": [],
   "source": [
    "data[(data['Total_calls_made']<lowerbound)|(data['Total_calls_made']>upperbound)].count()"
   ]
  },
  {
   "cell_type": "code",
   "execution_count": null,
   "metadata": {},
   "outputs": [],
   "source": [
    "outlier(data1['Total_visits_online'])"
   ]
  },
  {
   "cell_type": "code",
   "execution_count": null,
   "metadata": {},
   "outputs": [],
   "source": [
    "lowerbound,upperbound=outlier(data['Total_visits_online'])"
   ]
  },
  {
   "cell_type": "code",
   "execution_count": null,
   "metadata": {},
   "outputs": [],
   "source": [
    "data[(data['Total_visits_online']<lowerbound)|(data['Total_visits_online']>upperbound)].count()"
   ]
  },
  {
   "cell_type": "code",
   "execution_count": null,
   "metadata": {},
   "outputs": [],
   "source": [
    "data['Total_visits_online']=np.where(data['Total_visits_online']>upperbound,8.5,data['Total_visits_online'])"
   ]
  },
  {
   "cell_type": "markdown",
   "metadata": {},
   "source": [
    "###### Scaling the data "
   ]
  },
  {
   "cell_type": "code",
   "execution_count": null,
   "metadata": {},
   "outputs": [],
   "source": [
    "from scipy.stats import zscore \n",
    "\n",
    "data_scaled=data.apply(zscore)"
   ]
  },
  {
   "cell_type": "code",
   "execution_count": null,
   "metadata": {},
   "outputs": [],
   "source": [
    "data_scaled.head()"
   ]
  },
  {
   "cell_type": "markdown",
   "metadata": {},
   "source": [
    "###### Hopkins statistic - The ability for data to cluster"
   ]
  },
  {
   "cell_type": "code",
   "execution_count": null,
   "metadata": {},
   "outputs": [],
   "source": [
    "# Calculate Hopkins Statistic\n",
    "\n",
    "# To perform KMeans clustering \n",
    "from sklearn.cluster import KMeans\n",
    "from sklearn.neighbors import NearestNeighbors\n",
    "from random import sample\n",
    "from numpy.random import uniform\n",
    "from math import isnan\n",
    "\n",
    "def hopkins(X):\n",
    "    d = X.shape[1]\n",
    "    #d = len(vars) # columns\n",
    "    n = len(X) # rows\n",
    "    m = int(0.1 * n) \n",
    "    nbrs = NearestNeighbors(n_neighbors=1).fit(X.values)\n",
    " \n",
    "    rand_X = sample(range(0, n, 1), m)\n",
    " \n",
    "    ujd = []\n",
    "    wjd = []\n",
    "    for j in range(0, m):\n",
    "        u_dist, _ = nbrs.kneighbors(uniform(np.amin(X,axis=0),np.amax(X,axis=0),d).reshape(1, -1), 2, return_distance=True)\n",
    "        ujd.append(u_dist[0][1])\n",
    "        w_dist, _ = nbrs.kneighbors(X.iloc[rand_X[j]].values.reshape(1, -1), 2, return_distance=True)\n",
    "        wjd.append(w_dist[0][1])\n",
    " \n",
    "    H = sum(ujd) / (sum(ujd) + sum(wjd))\n",
    "    if isnan(H):\n",
    "        print(ujd, wjd)\n",
    "        H = 0\n",
    " \n",
    "    return H"
   ]
  },
  {
   "cell_type": "code",
   "execution_count": null,
   "metadata": {},
   "outputs": [],
   "source": [
    "hopkins(data_scaled)"
   ]
  },
  {
   "cell_type": "markdown",
   "metadata": {},
   "source": [
    "The data has a tendency to cluster and the score is counted as good as it is >0.75"
   ]
  },
  {
   "cell_type": "markdown",
   "metadata": {},
   "source": [
    "##### Elbow method - Finding the optimal number of clusters "
   ]
  },
  {
   "cell_type": "code",
   "execution_count": null,
   "metadata": {},
   "outputs": [],
   "source": [
    "#Finding optimal no. of clusters\n",
    "from scipy.spatial.distance import cdist\n",
    "clusters=range(1,10)\n",
    "meanDistortions=[]\n",
    "\n",
    "for k in clusters:\n",
    "    model=KMeans(n_clusters=k)\n",
    "    model.fit(data_scaled)\n",
    "    prediction=model.predict(data_scaled)\n",
    "    meanDistortions.append(sum(np.min(cdist(data_scaled, model.cluster_centers_, 'euclidean'), axis=1)) / data_scaled\n",
    "                           .shape[0])\n",
    "\n",
    "\n",
    "plt.plot(clusters, meanDistortions, 'bx-')\n",
    "plt.xlabel('k')\n",
    "plt.ylabel('Average distortion')\n",
    "plt.title('Selecting k with the Elbow Method')"
   ]
  },
  {
   "cell_type": "markdown",
   "metadata": {},
   "source": [
    "The elbow bend looks like is at 3 ."
   ]
  },
  {
   "cell_type": "markdown",
   "metadata": {},
   "source": [
    "###### KMeans Algorithm"
   ]
  },
  {
   "cell_type": "markdown",
   "metadata": {},
   "source": [
    "let's check for K=3 & K=4 using the Kmeans algorithm since the elbow bend is at 3.\n",
    "\n",
    "**Approach**\n",
    "\n",
    "1.Elbow method indicates 3 clusters .We will try different algorithms to understand the performance for 3 & 4 clusters \n",
    "\n",
    "2.We calculate the means using the Kmeans data to see the  variable distribution among the different clusters \n",
    "\n",
    "3.We then visually assess the distribution by doing a box plot \n",
    "\n",
    "4.Join the labeled K=3 ,KMeans data to the main dataframe which we are set up for analysis.\n",
    "\n",
    "5.We print the value count of these datapoints by cluster to see if this distribution is intuitive and meaningful.\n",
    "\n",
    "6.At each stage we calculate the Silhouette scores to be sure that the clustering is good enough. We will pick the best model based on our intuition looking at the data distribution and also looking at the Silhouette Scores.\n",
    "\n",
    "7.We repeat the steps above for K=4 \n",
    "\n",
    "8.We compare the Silhouette scores and also the box plots of the clusters to see which option is the best choice "
   ]
  },
  {
   "cell_type": "markdown",
   "metadata": {},
   "source": [
    "###### KMeans , K=3"
   ]
  },
  {
   "cell_type": "markdown",
   "metadata": {},
   "source": [
    "**Silhouette Score**"
   ]
  },
  {
   "cell_type": "code",
   "execution_count": null,
   "metadata": {},
   "outputs": [],
   "source": [
    "# For K = 3 \n",
    "final_model3=KMeans(3)\n",
    "final_model3.fit(data_scaled)\n",
    "prediction=final_model3.predict(data_scaled)\n",
    "\n",
    "## Print Silhouette score \n",
    "from sklearn.metrics import silhouette_score\n",
    "silhouette_score(data_scaled,final_model3.labels_)"
   ]
  },
  {
   "cell_type": "code",
   "execution_count": null,
   "metadata": {},
   "outputs": [],
   "source": [
    "#Append the prediction \n",
    "data[\"GROUP_3\"] = prediction\n",
    "data_scaled[\"GROUP_3\"] = prediction\n",
    "print(\"Groups Assigned : \\n\")\n",
    "data.head()"
   ]
  },
  {
   "cell_type": "code",
   "execution_count": null,
   "metadata": {},
   "outputs": [],
   "source": [
    "datagrouped_K3=data.groupby(['GROUP_3'])\n",
    "datagrouped_K3.mean()"
   ]
  },
  {
   "cell_type": "code",
   "execution_count": null,
   "metadata": {},
   "outputs": [],
   "source": [
    "data_scaled.boxplot(by='GROUP_3',layout=(2,4),figsize=(15,10));"
   ]
  },
  {
   "cell_type": "raw",
   "metadata": {},
   "source": [
    "data.boxplot(by='GROUP_3',layout=(2,4),figsize=(15,10));"
   ]
  },
  {
   "cell_type": "code",
   "execution_count": null,
   "metadata": {},
   "outputs": [],
   "source": [
    "centroids=final_model3.cluster_centers_"
   ]
  },
  {
   "cell_type": "code",
   "execution_count": null,
   "metadata": {},
   "outputs": [],
   "source": [
    "centroids"
   ]
  },
  {
   "cell_type": "raw",
   "metadata": {},
   "source": [
    "# Calculate the centroids for the columns to profile\n",
    "\n",
    "centroid_df=pd.DataFrame(data=centroids,columns=list(data_scaled))"
   ]
  },
  {
   "cell_type": "raw",
   "metadata": {},
   "source": [
    "centroid_df"
   ]
  },
  {
   "cell_type": "code",
   "execution_count": null,
   "metadata": {},
   "outputs": [],
   "source": [
    "## creating a new dataframe only for labels and converting it into categorical variable\n",
    "df_labels = pd.DataFrame(final_model3.labels_ , columns = list(['K=3']))\n",
    "\n",
    "df_labels['K=3'] = df_labels['K=3'].astype('category')"
   ]
  },
  {
   "cell_type": "code",
   "execution_count": null,
   "metadata": {},
   "outputs": [],
   "source": [
    "df_labeled=data1.join(df_labels)"
   ]
  },
  {
   "cell_type": "code",
   "execution_count": null,
   "metadata": {},
   "outputs": [],
   "source": [
    "df_labeled['K=3'].value_counts()"
   ]
  },
  {
   "cell_type": "code",
   "execution_count": null,
   "metadata": {},
   "outputs": [],
   "source": [
    "data_scaled.head()"
   ]
  },
  {
   "cell_type": "code",
   "execution_count": null,
   "metadata": {},
   "outputs": [],
   "source": [
    "from mpl_toolkits.mplot3d import Axes3D"
   ]
  },
  {
   "cell_type": "code",
   "execution_count": null,
   "metadata": {},
   "outputs": [],
   "source": [
    "data_scaled.drop(['GROUP_3'],axis=1,inplace=True)"
   ]
  },
  {
   "cell_type": "code",
   "execution_count": null,
   "metadata": {},
   "outputs": [],
   "source": [
    "fig = plt.figure(figsize=(8, 6))\n",
    "ax = Axes3D(fig, rect=[0, 0, .95, 1], elev=20, azim=60)\n",
    "k3_model=KMeans(3)\n",
    "k3_model.fit(data_scaled)\n",
    "labels = k3_model.labels_\n",
    "ax.scatter(data_scaled.iloc[:, 0], data_scaled.iloc[:, 1], data_scaled.iloc[:, 2],c=labels.astype(np.float), edgecolor='k')\n",
    "ax.w_xaxis.set_ticklabels([])\n",
    "ax.w_yaxis.set_ticklabels([])\n",
    "ax.w_zaxis.set_ticklabels([])\n",
    "ax.set_xlabel('Avg_Credit_Limit')\n",
    "ax.set_ylabel('Total_Credit_Cards')\n",
    "ax.set_zlabel('Total_visits_bank')\n",
    "ax.set_title('3D plot of KMeans Clustering')"
   ]
  },
  {
   "cell_type": "markdown",
   "metadata": {},
   "source": [
    "###### KMeans , K=4 "
   ]
  },
  {
   "cell_type": "markdown",
   "metadata": {},
   "source": [
    "**Silhouette Score**"
   ]
  },
  {
   "cell_type": "code",
   "execution_count": null,
   "metadata": {},
   "outputs": [],
   "source": [
    "# For K = 4 \n",
    "final_model4=KMeans(4)\n",
    "final_model4.fit(data_scaled)\n",
    "prediction=final_model4.predict(data_scaled)\n",
    "\n",
    "## Print the Silhouette score \n",
    "\n",
    "silhouette_score(data_scaled,final_model4.labels_)\n"
   ]
  },
  {
   "cell_type": "code",
   "execution_count": null,
   "metadata": {},
   "outputs": [],
   "source": [
    "data_scaled.head()"
   ]
  },
  {
   "cell_type": "code",
   "execution_count": null,
   "metadata": {},
   "outputs": [],
   "source": [
    "#Append the prediction \n",
    "data[\"GROUP_4\"] = prediction\n",
    "data_scaled[\"GROUP_4\"] = prediction\n",
    "print(\"Groups Assigned : \\n\")\n",
    "data.head()\n"
   ]
  },
  {
   "cell_type": "code",
   "execution_count": null,
   "metadata": {},
   "outputs": [],
   "source": [
    "datagrouped=data.groupby(['GROUP_4'])\n",
    "datagrouped.mean()"
   ]
  },
  {
   "cell_type": "code",
   "execution_count": null,
   "metadata": {},
   "outputs": [],
   "source": [
    "###### Adding the values to the dataframe "
   ]
  },
  {
   "cell_type": "code",
   "execution_count": null,
   "metadata": {},
   "outputs": [],
   "source": [
    "df_labels = pd.DataFrame(final_model4.labels_ , columns = list(['K=4']))\n",
    "\n",
    "df_labels['K=4'] = df_labels['K=4'].astype('category')"
   ]
  },
  {
   "cell_type": "code",
   "execution_count": null,
   "metadata": {},
   "outputs": [],
   "source": [
    "#Joining the newly created column to existing dataframe\n",
    "\n",
    "df_labeled=df_labeled.join(df_labels)"
   ]
  },
  {
   "cell_type": "code",
   "execution_count": null,
   "metadata": {},
   "outputs": [],
   "source": [
    "df_labeled.groupby(df_labeled['K=4']).size()"
   ]
  },
  {
   "cell_type": "code",
   "execution_count": null,
   "metadata": {},
   "outputs": [],
   "source": [
    "df_labeled.head()"
   ]
  },
  {
   "cell_type": "code",
   "execution_count": null,
   "metadata": {},
   "outputs": [],
   "source": [
    "data_scaled.boxplot(by = 'GROUP_4',  layout=(2,4), figsize=(20, 15))\n",
    "plt.xticks(rotation=90);"
   ]
  },
  {
   "cell_type": "code",
   "execution_count": null,
   "metadata": {},
   "outputs": [],
   "source": [
    "data_scaled.drop(['GROUP_4'],axis=1,inplace=True)"
   ]
  },
  {
   "cell_type": "code",
   "execution_count": null,
   "metadata": {},
   "outputs": [],
   "source": [
    "data_scaled.head()"
   ]
  },
  {
   "cell_type": "markdown",
   "metadata": {},
   "source": [
    "**KMeans results** \n",
    "\n",
    "1.Looking at the K3 mean values ,we see they are 3 different clusters with varied average mean values for all variables \n",
    "2.The box plot indicates the distribution of the data is different for all 3 clusters formed.\n",
    "3.Looking at K=4 mean values ,comparing them for all available variables we see ,that the means of a couple of variables are moving closely indicating they could actually form 1 cluster instead of being split into 2 .\n",
    "4.The box plot is indicative of the above point too \n",
    "5.We see the Silhouette score of K=3 is much better than the one for K=4 \n",
    "6.Considering the above factors we decide that K=3 is the best option for KMeans algorithm \n",
    "\n",
    "Let's proceed with Hierarchical clustering now.."
   ]
  },
  {
   "cell_type": "markdown",
   "metadata": {},
   "source": [
    "###### Hierarchical clustering "
   ]
  },
  {
   "cell_type": "markdown",
   "metadata": {},
   "source": [
    "**Approach - Hierarchical Clustering**\n",
    "\n",
    "1.Import the required libraries to check the cophenetic coefficient for the different linkages in Hierarchical Clustering \n",
    "\n",
    "2.Compute the Cophenetic coefficient for all the linkages, pick a handful in descending order\n",
    "\n",
    "3.Find the linkage matrix \n",
    "\n",
    "4.Plot the dendrogram for the consolidated data frame \n",
    "\n",
    "5.Truncate the dendrogram setting the pvalue  ,cut the dendrogram at a reasonable max_depth\n",
    "\n",
    "6.Use the distance matrix measure and FCluster function to cluster the data \n",
    "\n",
    "7.Evaluate the clusters by looking at the distribution of the datapoints\n",
    "\n",
    "8.Print the Silhouette coefficient and assess the data distribution "
   ]
  },
  {
   "cell_type": "code",
   "execution_count": null,
   "metadata": {},
   "outputs": [],
   "source": [
    "from scipy.cluster.hierarchy import cophenet, dendrogram, linkage"
   ]
  },
  {
   "cell_type": "code",
   "execution_count": null,
   "metadata": {},
   "outputs": [],
   "source": [
    "from scipy.spatial.distance import pdist  #Pairwise distribution between data points"
   ]
  },
  {
   "cell_type": "markdown",
   "metadata": {},
   "source": [
    "###### Average linkage"
   ]
  },
  {
   "cell_type": "markdown",
   "metadata": {},
   "source": [
    "##### Cophenetic coefficients for different linkages"
   ]
  },
  {
   "cell_type": "code",
   "execution_count": null,
   "metadata": {},
   "outputs": [],
   "source": [
    "links=['single','complete','average','ward','median','centroid']\n",
    "for each in links:\n",
    "    Z = linkage(data_scaled, method=each, metric='euclidean')\n",
    "    cc,cophn_dist=cophenet(Z,pdist(data_scaled))\n",
    "    print (each,cc)"
   ]
  },
  {
   "cell_type": "markdown",
   "metadata": {},
   "source": [
    "###### Linkage Matrix- Average"
   ]
  },
  {
   "cell_type": "code",
   "execution_count": null,
   "metadata": {},
   "outputs": [],
   "source": [
    "from scipy.cluster.hierarchy import dendrogram, linkage\n",
    "Z_average = linkage(data_scaled, 'average', metric='euclidean')\n",
    "Z_average.shape"
   ]
  },
  {
   "cell_type": "code",
   "execution_count": null,
   "metadata": {},
   "outputs": [],
   "source": [
    "Z_average[:]"
   ]
  },
  {
   "cell_type": "markdown",
   "metadata": {},
   "source": [
    "###### Dataframe for consolidated dendrogram"
   ]
  },
  {
   "cell_type": "code",
   "execution_count": null,
   "metadata": {},
   "outputs": [],
   "source": [
    "plt.figure(figsize=(25, 10))\n",
    "dendrogram(Z_average)\n",
    "plt.show()"
   ]
  },
  {
   "cell_type": "markdown",
   "metadata": {},
   "source": [
    "###### Truncated Dendrogram"
   ]
  },
  {
   "cell_type": "code",
   "execution_count": null,
   "metadata": {},
   "outputs": [],
   "source": [
    "# Hint: Use truncate_mode='lastp' attribute in dendrogram function to arrive at dendrogram\n",
    "dendrogram(\n",
    "    Z_average,\n",
    "    truncate_mode='lastp',  # show only the last p merged clusters\n",
    "    p=6,  # show only the last p merged clusters\n",
    ")\n",
    "plt.show()"
   ]
  },
  {
   "cell_type": "code",
   "execution_count": null,
   "metadata": {},
   "outputs": [],
   "source": [
    "max_d=3.5\n"
   ]
  },
  {
   "cell_type": "markdown",
   "metadata": {},
   "source": [
    "###### Ditsnace matrix & Fcluster function to cluster the data "
   ]
  },
  {
   "cell_type": "code",
   "execution_count": null,
   "metadata": {},
   "outputs": [],
   "source": [
    "from scipy.cluster.hierarchy import fcluster\n",
    "clusters_average = fcluster(Z_average, max_d, criterion='distance')\n",
    "clusters_average\n",
    "set(clusters_average)"
   ]
  },
  {
   "cell_type": "code",
   "execution_count": null,
   "metadata": {},
   "outputs": [],
   "source": [
    "df_labeled['clusters_label_average']=clusters_average"
   ]
  },
  {
   "cell_type": "code",
   "execution_count": null,
   "metadata": {},
   "outputs": [],
   "source": [
    "df_labeled.groupby(['clusters_label_average']).size()"
   ]
  },
  {
   "cell_type": "markdown",
   "metadata": {},
   "source": [
    "###### Calculate the average Silhoutte score - Average linkage"
   ]
  },
  {
   "cell_type": "code",
   "execution_count": null,
   "metadata": {},
   "outputs": [],
   "source": [
    "from sklearn.metrics import silhouette_score\n",
    "silhouette_score(data_scaled,clusters_average)"
   ]
  },
  {
   "cell_type": "markdown",
   "metadata": {},
   "source": [
    "###### Linkage Matrix- Centroid"
   ]
  },
  {
   "cell_type": "code",
   "execution_count": null,
   "metadata": {},
   "outputs": [],
   "source": [
    "from scipy.cluster.hierarchy import dendrogram, linkage\n",
    "Z_centroid = linkage(data_scaled, 'centroid', metric='euclidean')\n",
    "Z_centroid.shape"
   ]
  },
  {
   "cell_type": "code",
   "execution_count": null,
   "metadata": {},
   "outputs": [],
   "source": [
    "Z[:]"
   ]
  },
  {
   "cell_type": "markdown",
   "metadata": {},
   "source": [
    "###### Dendrogram "
   ]
  },
  {
   "cell_type": "code",
   "execution_count": null,
   "metadata": {},
   "outputs": [],
   "source": [
    "plt.figure(figsize=(25, 10))\n",
    "dendrogram(Z_centroid)\n",
    "plt.show()"
   ]
  },
  {
   "cell_type": "code",
   "execution_count": null,
   "metadata": {},
   "outputs": [],
   "source": [
    "# Hint: Use truncate_mode='lastp' attribute in dendrogram function to arrive at dendrogram\n",
    "dendrogram(\n",
    "    Z_centroid,\n",
    "    truncate_mode='lastp',  # show only the last p merged clusters\n",
    "    p=6,  # show only the last p merged clusters\n",
    ")\n",
    "plt.show()"
   ]
  },
  {
   "cell_type": "code",
   "execution_count": null,
   "metadata": {},
   "outputs": [],
   "source": [
    "max_d=3.1"
   ]
  },
  {
   "cell_type": "code",
   "execution_count": null,
   "metadata": {},
   "outputs": [],
   "source": [
    "from scipy.cluster.hierarchy import fcluster\n",
    "clusters_centroid = fcluster(Z_centroid, max_d, criterion='distance')\n",
    "clusters_centroid\n",
    "set(clusters_centroid)"
   ]
  },
  {
   "cell_type": "code",
   "execution_count": null,
   "metadata": {},
   "outputs": [],
   "source": [
    "df_labeled['clusters_label_centroid']=clusters_centroid"
   ]
  },
  {
   "cell_type": "code",
   "execution_count": null,
   "metadata": {},
   "outputs": [],
   "source": [
    "df_labeled.groupby(['clusters_label_centroid']).size()"
   ]
  },
  {
   "cell_type": "code",
   "execution_count": null,
   "metadata": {},
   "outputs": [],
   "source": [
    "#from sklearn.metrics import silhouette_score\n",
    "silhouette_score(data_scaled,clusters_centroid)"
   ]
  },
  {
   "cell_type": "markdown",
   "metadata": {},
   "source": [
    "###### Complete linkage"
   ]
  },
  {
   "cell_type": "code",
   "execution_count": null,
   "metadata": {},
   "outputs": [],
   "source": [
    "from scipy.cluster.hierarchy import dendrogram, linkage\n",
    "Z_complete = linkage(data_scaled, 'complete', metric='euclidean')\n",
    "Z_complete.shape"
   ]
  },
  {
   "cell_type": "code",
   "execution_count": null,
   "metadata": {},
   "outputs": [],
   "source": [
    "Z_complete[:]"
   ]
  },
  {
   "cell_type": "code",
   "execution_count": null,
   "metadata": {},
   "outputs": [],
   "source": [
    "plt.figure(figsize=(25, 10))\n",
    "dendrogram(Z_complete)\n",
    "plt.show()"
   ]
  },
  {
   "cell_type": "code",
   "execution_count": null,
   "metadata": {},
   "outputs": [],
   "source": [
    "# Hint: Use truncate_mode='lastp' attribute in dendrogram function to arrive at dendrogram\n",
    "dendrogram(\n",
    "    Z_complete,\n",
    "    truncate_mode='lastp',  # show only the last p merged clusters\n",
    "    p=6,  # show only the last p merged clusters\n",
    ")\n",
    "plt.show()"
   ]
  },
  {
   "cell_type": "code",
   "execution_count": null,
   "metadata": {},
   "outputs": [],
   "source": [
    "max_d=5.5 #- test 1 \n",
    "#max_d=4.5 - test 2"
   ]
  },
  {
   "cell_type": "code",
   "execution_count": null,
   "metadata": {},
   "outputs": [],
   "source": [
    "clusters_complete = fcluster(Z_complete, max_d, criterion='distance')\n",
    "clusters_complete\n",
    "set(clusters_complete)"
   ]
  },
  {
   "cell_type": "code",
   "execution_count": null,
   "metadata": {},
   "outputs": [],
   "source": [
    "silhouette_score(data_scaled,clusters_complete)"
   ]
  },
  {
   "cell_type": "code",
   "execution_count": null,
   "metadata": {},
   "outputs": [],
   "source": [
    "df_labeled['clusters_label_complete']=clusters_complete"
   ]
  },
  {
   "cell_type": "code",
   "execution_count": null,
   "metadata": {},
   "outputs": [],
   "source": [
    "df_labeled.groupby(['clusters_label_complete']).size()"
   ]
  },
  {
   "cell_type": "markdown",
   "metadata": {},
   "source": [
    "**Hierarchical Clustering - Results** \n",
    "\n",
    "1.Looking at the cophenetic coefficient we could see some linkages were best suited to proceed with the clustering \n",
    "\n",
    "2.We apply Hierchical clustering using Euclidean distance measure to print the dendrograms for the best cophenetic coefficient values I.e Average,Centroid,Complete linkage .\n",
    "\n",
    "3.Bythe distribution and also looking at the dendrogram ,although Average and Centroid have high cophenetic values we see that the data distribution and the dendrogram makes perfect sense only in case of ‘Complete’ linkage\n",
    "\n",
    "4.We notice that the Silhouette coefficient gives a good score for Complete linkage and thus we settle for 3 clusters using Hierarchical clustering - Complete linkage \n",
    "\n",
    "\n",
    "Let's look further at the results and compare the results from the clusters "
   ]
  },
  {
   "cell_type": "code",
   "execution_count": null,
   "metadata": {},
   "outputs": [],
   "source": [
    "####### Boxplots - Hierarchical clustering(Complete linkage) &  KMeans @ K=3 ########"
   ]
  },
  {
   "cell_type": "code",
   "execution_count": null,
   "metadata": {},
   "outputs": [],
   "source": [
    "df_labeled.head()"
   ]
  },
  {
   "cell_type": "code",
   "execution_count": null,
   "metadata": {},
   "outputs": [],
   "source": [
    "plt.figure(figsize=(14,10))\n",
    "plt.subplot(321)\n",
    "sns.boxplot(x='K=3',y='Avg_Credit_Limit',data=df_labeled)\n",
    "plt.subplot(322)\n",
    "sns.boxplot(x='K=3',y='Total_Credit_Cards',data=df_labeled)\n",
    "plt.subplot(323)\n",
    "sns.boxplot(x='K=3',y='Total_visits_bank',data=df_labeled)\n",
    "plt.subplot(324)\n",
    "sns.boxplot(x='K=3',y='Total_visits_online',data=df_labeled)\n",
    "plt.subplot(325)\n",
    "sns.boxplot(x='K=3',y='Total_calls_made',data=df_labeled)"
   ]
  },
  {
   "cell_type": "code",
   "execution_count": null,
   "metadata": {},
   "outputs": [],
   "source": [
    "plt.figure(figsize=(14,10))\n",
    "plt.subplot(321)\n",
    "sns.boxplot(x='clusters_label_complete',y='Avg_Credit_Limit',data=df_labeled)\n",
    "plt.subplot(322)\n",
    "sns.boxplot(x='clusters_label_complete',y='Total_Credit_Cards',data=df_labeled)\n",
    "plt.subplot(323)\n",
    "sns.boxplot(x='clusters_label_complete',y='Total_visits_bank',data=df_labeled)\n",
    "plt.subplot(324)\n",
    "sns.boxplot(x='clusters_label_complete',y='Total_visits_online',data=df_labeled)\n",
    "plt.subplot(325)\n",
    "sns.boxplot(x='clusters_label_complete',y='Total_calls_made',data=df_labeled)"
   ]
  },
  {
   "cell_type": "markdown",
   "metadata": {},
   "source": [
    "###### Compare K Means & Hierarchical Clusters using boxplots & Comparing the Cluster means "
   ]
  },
  {
   "cell_type": "code",
   "execution_count": null,
   "metadata": {},
   "outputs": [],
   "source": [
    "plt.figure(figsize=(14,10))\n",
    "plt.subplot(521)\n",
    "sns.boxplot(x='K=3',y='Avg_Credit_Limit',data=df_labeled)\n",
    "plt.subplot(522)\n",
    "sns.boxplot(x='clusters_label_complete',y='Avg_Credit_Limit',data=df_labeled)\n",
    "\n",
    "plt.subplot(523)\n",
    "sns.boxplot(x='K=3',y='Total_Credit_Cards',data=df_labeled)\n",
    "plt.subplot(524)\n",
    "sns.boxplot(x='clusters_label_complete',y='Total_Credit_Cards',data=df_labeled)\n",
    "\n",
    "plt.subplot(525)\n",
    "sns.boxplot(x='K=3',y='Total_visits_bank',data=df_labeled)\n",
    "plt.subplot(526)\n",
    "sns.boxplot(x='clusters_label_complete',y='Total_visits_bank',data=df_labeled)\n",
    "\n",
    "plt.subplot(527)\n",
    "sns.boxplot(x='K=3',y='Total_visits_online',data=df_labeled)\n",
    "plt.subplot(528)\n",
    "sns.boxplot(x='clusters_label_complete',y='Total_visits_online',data=df_labeled)\n",
    "\n",
    "plt.subplot(529)\n",
    "sns.boxplot(x='K=3',y='Total_calls_made',data=df_labeled)\n",
    "plt.subplot(5,2,10)\n",
    "sns.boxplot(x='clusters_label_complete',y='Total_calls_made',data=df_labeled)\n"
   ]
  },
  {
   "cell_type": "markdown",
   "metadata": {},
   "source": [
    "Let's compare the Cluster means of the 2 best models at hand "
   ]
  },
  {
   "cell_type": "code",
   "execution_count": null,
   "metadata": {},
   "outputs": [],
   "source": [
    "datagrouped_Hclust=df_labeled.groupby(['clusters_label_complete'])\n",
    "datagrouped_Hclust.mean()"
   ]
  },
  {
   "cell_type": "code",
   "execution_count": null,
   "metadata": {},
   "outputs": [],
   "source": [
    "datagrouped_KMeans=df_labeled.groupby(['K=3'])\n",
    "datagrouped_KMeans.mean()"
   ]
  },
  {
   "cell_type": "markdown",
   "metadata": {},
   "source": [
    "\n",
    "**Comparing the results of KMeans & Hierarchical Clusters**\n",
    "\n",
    "1.We get 3 clusters for both Hierarchical and K Means Clusters \n",
    "\n",
    "2.Both give us Silhouette scores of 0.516 \n",
    "\n",
    "3.We compare the box plots of these clusters using the labeled data and we see that except for some slight variation all variables behave in the very similar way in both clusters.\n",
    "\n",
    "4.Comparing by each variable ,Average Credit Limit shows 3 clusters which could be seen as very high value ,low value and medium value credit spend, the clusters show no significant difference in the values.\n",
    "\n",
    "5.Total Credit Cards shows clusters with means at 2.4,5.5&8.74 for both Clustering algorithms \n",
    "\n",
    "6.Total Bank visits ,the 3 clusters show a mean value of 0.6,0.9,3.4 on both the clusters.\n",
    "\n",
    "7.Total Calls made show similar values for the clusters,1.08,6.8&2.0 as mean values\n",
    "\n",
    "8.Total Online visits show cluster mean values at 10.9,3.55,0.98 \n",
    "\n",
    "9.All the variables show the cluster means that are significantly different from each other in both the algorithm results "
   ]
  },
  {
   "cell_type": "markdown",
   "metadata": {},
   "source": [
    "Since both clusters behave similarly to understand the behavior of the customers we group by K3 labels"
   ]
  },
  {
   "cell_type": "code",
   "execution_count": null,
   "metadata": {},
   "outputs": [],
   "source": [
    "fig, ax = plt.subplots(figsize=(10,7))\n",
    "sns.scatterplot(data=df_labeled,x='Avg_Credit_Limit',y='Total_visits_bank',hue='K=3')\n",
    "plt.xticks(rotation=90);\n",
    "ax.set_title(\"Average CreditLimit vs (Bank Visits,TotalCredit Cards)\")\n",
    "ax.legend(loc=\"upper left\", bbox_to_anchor=(1,1))\n",
    "plt.show()"
   ]
  },
  {
   "cell_type": "code",
   "execution_count": null,
   "metadata": {},
   "outputs": [],
   "source": [
    "fig, ax = plt.subplots(figsize=(10,7))\n",
    "sns.scatterplot(data=df_labeled,x='Avg_Credit_Limit',y='Total_visits_online',hue='K=3')\n",
    "plt.xticks(rotation=90);\n",
    "ax.set_title(\"Average CreditLimit vs (Online Visits,TotalCalls Made)\")\n",
    "ax.legend(loc=\"upper left\", bbox_to_anchor=(1,1))\n",
    "plt.show()"
   ]
  },
  {
   "cell_type": "code",
   "execution_count": null,
   "metadata": {},
   "outputs": [],
   "source": [
    "sns.scatterplot(data=df_labeled,x='Avg_Credit_Limit',y='Total_calls_made',hue='K=3')\n",
    "plt.xticks(rotation=90);"
   ]
  },
  {
   "cell_type": "code",
   "execution_count": null,
   "metadata": {},
   "outputs": [],
   "source": [
    "sns.scatterplot(data=df_labeled,x='Total_Credit_Cards',y='Total_visits_online',hue='K=3')\n",
    "plt.xticks(rotation=90);"
   ]
  },
  {
   "cell_type": "code",
   "execution_count": null,
   "metadata": {},
   "outputs": [],
   "source": [
    "sns.scatterplot(data=df_labeled,x='Total_visits_online',y='Total_calls_made',hue='K=3')\n",
    "plt.xticks(rotation=90); "
   ]
  },
  {
   "cell_type": "markdown",
   "metadata": {},
   "source": [
    "**Business Insights** \n",
    "\n",
    "1.There are 3 major segments of customers in the Credit card data .The  high credit limit customer ,moderate credit limit customer and low credit limit customer.\n",
    "\n",
    "2.We see that based on the average credit limit and the total bank visits ,customers  having total bank visits>2 (low-moderate credit customers) and bank visits less than <2 are segmented separately ,High credit limit customers who visited the bank less once  are shown clearly and separately. \n",
    "\n",
    "3.The high credit limit customers show high online visits ,those that show low to moderate credit limit show very less number of visits online.\n",
    "\n",
    "4.High number of calls are made by low credit limit customers ,moderate credit limit shows lesser number of calls compared to low credit limit customer \n",
    "\n",
    "5.Higher credit card number shows higher online visits.\n",
    "\n",
    "**Hence the Key actions should be..**\n",
    "\n",
    "1.All of these implying that if a customer is high valued ,holding numerous credit cards he would do more online transactions and would reach the customer care less via calls or through a bank visit ,this customer should be sent marketing messages through email/text or any other online channel to upsell products and for customer retention .\n",
    "\n",
    "2.The moderate value customers are a good combination of client coming to the bank, online visits and making calls to the bank .This type of customer can be retained by using all channels to upset and also retain ,but preferably through mobile channel and upsetting products during their bank visits.\n",
    "\n",
    "3.Last,and also the major % of the customer base is the low credit limit customers ,these are the customers that make maximum calls to the bank and also pay high visits to the bank, therefore these customer should not be targeted for upsell through online channels ,but we should channel the marketing through phone calls and marketing assistants at the bank."
   ]
  }
 ],
 "metadata": {
  "kernelspec": {
   "display_name": "Python 3",
   "language": "python",
   "name": "python3"
  },
  "language_info": {
   "codemirror_mode": {
    "name": "ipython",
    "version": 3
   },
   "file_extension": ".py",
   "mimetype": "text/x-python",
   "name": "python",
   "nbconvert_exporter": "python",
   "pygments_lexer": "ipython3",
   "version": "3.7.6"
  }
 },
 "nbformat": 4,
 "nbformat_minor": 4
}
