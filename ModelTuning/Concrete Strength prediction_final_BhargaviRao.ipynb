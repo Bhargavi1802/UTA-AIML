{
 "cells": [
  {
   "cell_type": "markdown",
   "metadata": {},
   "source": [
    "#### Objective "
   ]
  },
  {
   "cell_type": "markdown",
   "metadata": {},
   "source": [
    "To predict the concrete stregth using the available data.Apply feature engineering and model tuning to obtain 80% to 95% of R2score."
   ]
  },
  {
   "cell_type": "markdown",
   "metadata": {},
   "source": [
    "#### Setting the working directory ####"
   ]
  },
  {
   "cell_type": "code",
   "execution_count": 1,
   "metadata": {},
   "outputs": [],
   "source": [
    "import os "
   ]
  },
  {
   "cell_type": "code",
   "execution_count": 2,
   "metadata": {},
   "outputs": [
    {
     "data": {
      "text/plain": [
       "'/Users/bhargavikanchiraju/Desktop/PythonCode_UTA/Model Tuning'"
      ]
     },
     "execution_count": 2,
     "metadata": {},
     "output_type": "execute_result"
    }
   ],
   "source": [
    "os.getcwd()"
   ]
  },
  {
   "cell_type": "markdown",
   "metadata": {},
   "source": [
    "###### Importing the required libraries"
   ]
  },
  {
   "cell_type": "code",
   "execution_count": 3,
   "metadata": {},
   "outputs": [],
   "source": [
    "import numpy as np\n",
    "from sklearn.linear_model import LinearRegression\n",
    "import pandas as pd\n",
    "import seaborn as sns\n",
    "import matplotlib.pyplot as plt# matplotlib.pyplot plots data\n",
    "%matplotlib inline \n",
    "from sklearn.model_selection import train_test_split\n",
    "import missingno as msno\n",
    "import warnings\n",
    "pd.options.display.max_columns = None\n",
    "pd.options.display.max_rows = None\n",
    "warnings.filterwarnings(\"ignore\")\n",
    "pd.options.display.float_format = '{:,.2f}'.format"
   ]
  },
  {
   "cell_type": "markdown",
   "metadata": {},
   "source": [
    "###### Read the dataset"
   ]
  },
  {
   "cell_type": "code",
   "execution_count": 4,
   "metadata": {},
   "outputs": [],
   "source": [
    "data=pd.read_csv('concrete.csv')"
   ]
  },
  {
   "cell_type": "code",
   "execution_count": 5,
   "metadata": {},
   "outputs": [
    {
     "data": {
      "text/html": [
       "<div>\n",
       "<style scoped>\n",
       "    .dataframe tbody tr th:only-of-type {\n",
       "        vertical-align: middle;\n",
       "    }\n",
       "\n",
       "    .dataframe tbody tr th {\n",
       "        vertical-align: top;\n",
       "    }\n",
       "\n",
       "    .dataframe thead th {\n",
       "        text-align: right;\n",
       "    }\n",
       "</style>\n",
       "<table border=\"1\" class=\"dataframe\">\n",
       "  <thead>\n",
       "    <tr style=\"text-align: right;\">\n",
       "      <th></th>\n",
       "      <th>cement</th>\n",
       "      <th>slag</th>\n",
       "      <th>ash</th>\n",
       "      <th>water</th>\n",
       "      <th>superplastic</th>\n",
       "      <th>coarseagg</th>\n",
       "      <th>fineagg</th>\n",
       "      <th>age</th>\n",
       "      <th>strength</th>\n",
       "    </tr>\n",
       "  </thead>\n",
       "  <tbody>\n",
       "    <tr>\n",
       "      <th>0</th>\n",
       "      <td>141.30</td>\n",
       "      <td>212.00</td>\n",
       "      <td>0.00</td>\n",
       "      <td>203.50</td>\n",
       "      <td>0.00</td>\n",
       "      <td>971.80</td>\n",
       "      <td>748.50</td>\n",
       "      <td>28</td>\n",
       "      <td>29.89</td>\n",
       "    </tr>\n",
       "    <tr>\n",
       "      <th>1</th>\n",
       "      <td>168.90</td>\n",
       "      <td>42.20</td>\n",
       "      <td>124.30</td>\n",
       "      <td>158.30</td>\n",
       "      <td>10.80</td>\n",
       "      <td>1,080.80</td>\n",
       "      <td>796.20</td>\n",
       "      <td>14</td>\n",
       "      <td>23.51</td>\n",
       "    </tr>\n",
       "    <tr>\n",
       "      <th>2</th>\n",
       "      <td>250.00</td>\n",
       "      <td>0.00</td>\n",
       "      <td>95.70</td>\n",
       "      <td>187.40</td>\n",
       "      <td>5.50</td>\n",
       "      <td>956.90</td>\n",
       "      <td>861.20</td>\n",
       "      <td>28</td>\n",
       "      <td>29.22</td>\n",
       "    </tr>\n",
       "    <tr>\n",
       "      <th>3</th>\n",
       "      <td>266.00</td>\n",
       "      <td>114.00</td>\n",
       "      <td>0.00</td>\n",
       "      <td>228.00</td>\n",
       "      <td>0.00</td>\n",
       "      <td>932.00</td>\n",
       "      <td>670.00</td>\n",
       "      <td>28</td>\n",
       "      <td>45.85</td>\n",
       "    </tr>\n",
       "    <tr>\n",
       "      <th>4</th>\n",
       "      <td>154.80</td>\n",
       "      <td>183.40</td>\n",
       "      <td>0.00</td>\n",
       "      <td>193.30</td>\n",
       "      <td>9.10</td>\n",
       "      <td>1,047.40</td>\n",
       "      <td>696.70</td>\n",
       "      <td>28</td>\n",
       "      <td>18.29</td>\n",
       "    </tr>\n",
       "  </tbody>\n",
       "</table>\n",
       "</div>"
      ],
      "text/plain": [
       "   cement   slag    ash  water  superplastic  coarseagg  fineagg  age  \\\n",
       "0  141.30 212.00   0.00 203.50          0.00     971.80   748.50   28   \n",
       "1  168.90  42.20 124.30 158.30         10.80   1,080.80   796.20   14   \n",
       "2  250.00   0.00  95.70 187.40          5.50     956.90   861.20   28   \n",
       "3  266.00 114.00   0.00 228.00          0.00     932.00   670.00   28   \n",
       "4  154.80 183.40   0.00 193.30          9.10   1,047.40   696.70   28   \n",
       "\n",
       "   strength  \n",
       "0     29.89  \n",
       "1     23.51  \n",
       "2     29.22  \n",
       "3     45.85  \n",
       "4     18.29  "
      ]
     },
     "execution_count": 5,
     "metadata": {},
     "output_type": "execute_result"
    }
   ],
   "source": [
    "data.head()"
   ]
  },
  {
   "cell_type": "code",
   "execution_count": 6,
   "metadata": {},
   "outputs": [
    {
     "data": {
      "text/plain": [
       "(1030, 9)"
      ]
     },
     "execution_count": 6,
     "metadata": {},
     "output_type": "execute_result"
    }
   ],
   "source": [
    "data.shape"
   ]
  },
  {
   "cell_type": "code",
   "execution_count": 7,
   "metadata": {},
   "outputs": [
    {
     "data": {
      "text/html": [
       "<div>\n",
       "<style scoped>\n",
       "    .dataframe tbody tr th:only-of-type {\n",
       "        vertical-align: middle;\n",
       "    }\n",
       "\n",
       "    .dataframe tbody tr th {\n",
       "        vertical-align: top;\n",
       "    }\n",
       "\n",
       "    .dataframe thead th {\n",
       "        text-align: right;\n",
       "    }\n",
       "</style>\n",
       "<table border=\"1\" class=\"dataframe\">\n",
       "  <thead>\n",
       "    <tr style=\"text-align: right;\">\n",
       "      <th></th>\n",
       "      <th>count</th>\n",
       "      <th>mean</th>\n",
       "      <th>std</th>\n",
       "      <th>min</th>\n",
       "      <th>25%</th>\n",
       "      <th>50%</th>\n",
       "      <th>75%</th>\n",
       "      <th>max</th>\n",
       "    </tr>\n",
       "  </thead>\n",
       "  <tbody>\n",
       "    <tr>\n",
       "      <th>cement</th>\n",
       "      <td>1,030.00</td>\n",
       "      <td>281.17</td>\n",
       "      <td>104.51</td>\n",
       "      <td>102.00</td>\n",
       "      <td>192.38</td>\n",
       "      <td>272.90</td>\n",
       "      <td>350.00</td>\n",
       "      <td>540.00</td>\n",
       "    </tr>\n",
       "    <tr>\n",
       "      <th>slag</th>\n",
       "      <td>1,030.00</td>\n",
       "      <td>73.90</td>\n",
       "      <td>86.28</td>\n",
       "      <td>0.00</td>\n",
       "      <td>0.00</td>\n",
       "      <td>22.00</td>\n",
       "      <td>142.95</td>\n",
       "      <td>359.40</td>\n",
       "    </tr>\n",
       "    <tr>\n",
       "      <th>ash</th>\n",
       "      <td>1,030.00</td>\n",
       "      <td>54.19</td>\n",
       "      <td>64.00</td>\n",
       "      <td>0.00</td>\n",
       "      <td>0.00</td>\n",
       "      <td>0.00</td>\n",
       "      <td>118.30</td>\n",
       "      <td>200.10</td>\n",
       "    </tr>\n",
       "    <tr>\n",
       "      <th>water</th>\n",
       "      <td>1,030.00</td>\n",
       "      <td>181.57</td>\n",
       "      <td>21.35</td>\n",
       "      <td>121.80</td>\n",
       "      <td>164.90</td>\n",
       "      <td>185.00</td>\n",
       "      <td>192.00</td>\n",
       "      <td>247.00</td>\n",
       "    </tr>\n",
       "    <tr>\n",
       "      <th>superplastic</th>\n",
       "      <td>1,030.00</td>\n",
       "      <td>6.20</td>\n",
       "      <td>5.97</td>\n",
       "      <td>0.00</td>\n",
       "      <td>0.00</td>\n",
       "      <td>6.40</td>\n",
       "      <td>10.20</td>\n",
       "      <td>32.20</td>\n",
       "    </tr>\n",
       "    <tr>\n",
       "      <th>coarseagg</th>\n",
       "      <td>1,030.00</td>\n",
       "      <td>972.92</td>\n",
       "      <td>77.75</td>\n",
       "      <td>801.00</td>\n",
       "      <td>932.00</td>\n",
       "      <td>968.00</td>\n",
       "      <td>1,029.40</td>\n",
       "      <td>1,145.00</td>\n",
       "    </tr>\n",
       "    <tr>\n",
       "      <th>fineagg</th>\n",
       "      <td>1,030.00</td>\n",
       "      <td>773.58</td>\n",
       "      <td>80.18</td>\n",
       "      <td>594.00</td>\n",
       "      <td>730.95</td>\n",
       "      <td>779.50</td>\n",
       "      <td>824.00</td>\n",
       "      <td>992.60</td>\n",
       "    </tr>\n",
       "    <tr>\n",
       "      <th>age</th>\n",
       "      <td>1,030.00</td>\n",
       "      <td>45.66</td>\n",
       "      <td>63.17</td>\n",
       "      <td>1.00</td>\n",
       "      <td>7.00</td>\n",
       "      <td>28.00</td>\n",
       "      <td>56.00</td>\n",
       "      <td>365.00</td>\n",
       "    </tr>\n",
       "    <tr>\n",
       "      <th>strength</th>\n",
       "      <td>1,030.00</td>\n",
       "      <td>35.82</td>\n",
       "      <td>16.71</td>\n",
       "      <td>2.33</td>\n",
       "      <td>23.71</td>\n",
       "      <td>34.45</td>\n",
       "      <td>46.14</td>\n",
       "      <td>82.60</td>\n",
       "    </tr>\n",
       "  </tbody>\n",
       "</table>\n",
       "</div>"
      ],
      "text/plain": [
       "                count   mean    std    min    25%    50%      75%      max\n",
       "cement       1,030.00 281.17 104.51 102.00 192.38 272.90   350.00   540.00\n",
       "slag         1,030.00  73.90  86.28   0.00   0.00  22.00   142.95   359.40\n",
       "ash          1,030.00  54.19  64.00   0.00   0.00   0.00   118.30   200.10\n",
       "water        1,030.00 181.57  21.35 121.80 164.90 185.00   192.00   247.00\n",
       "superplastic 1,030.00   6.20   5.97   0.00   0.00   6.40    10.20    32.20\n",
       "coarseagg    1,030.00 972.92  77.75 801.00 932.00 968.00 1,029.40 1,145.00\n",
       "fineagg      1,030.00 773.58  80.18 594.00 730.95 779.50   824.00   992.60\n",
       "age          1,030.00  45.66  63.17   1.00   7.00  28.00    56.00   365.00\n",
       "strength     1,030.00  35.82  16.71   2.33  23.71  34.45    46.14    82.60"
      ]
     },
     "execution_count": 7,
     "metadata": {},
     "output_type": "execute_result"
    }
   ],
   "source": [
    "data.describe().transpose()"
   ]
  },
  {
   "cell_type": "code",
   "execution_count": 8,
   "metadata": {},
   "outputs": [
    {
     "data": {
      "text/plain": [
       "cement          278\n",
       "slag            185\n",
       "ash             156\n",
       "water           195\n",
       "superplastic    111\n",
       "coarseagg       284\n",
       "fineagg         302\n",
       "age              14\n",
       "strength        845\n",
       "dtype: int64"
      ]
     },
     "execution_count": 8,
     "metadata": {},
     "output_type": "execute_result"
    }
   ],
   "source": [
    "data.nunique()"
   ]
  },
  {
   "cell_type": "code",
   "execution_count": 9,
   "metadata": {},
   "outputs": [
    {
     "data": {
      "text/plain": [
       "cement          float64\n",
       "slag            float64\n",
       "ash             float64\n",
       "water           float64\n",
       "superplastic    float64\n",
       "coarseagg       float64\n",
       "fineagg         float64\n",
       "age               int64\n",
       "strength        float64\n",
       "dtype: object"
      ]
     },
     "execution_count": 9,
     "metadata": {},
     "output_type": "execute_result"
    }
   ],
   "source": [
    "data.dtypes"
   ]
  },
  {
   "cell_type": "markdown",
   "metadata": {},
   "source": [
    "All features are continous and none categorical."
   ]
  },
  {
   "cell_type": "markdown",
   "metadata": {},
   "source": [
    "###### Basic checks on the data before the analysis "
   ]
  },
  {
   "cell_type": "code",
   "execution_count": 10,
   "metadata": {},
   "outputs": [],
   "source": [
    "def basic_checks(df):\n",
    "    \n",
    "    print('='*50)\n",
    "    print('Shape of the dataframe is: \\n',df.shape)\n",
    "    print('='*50)\n",
    "    print('Basic stats for the data: \\n',df.describe())\n",
    "    print('='*50)\n",
    "    print('Data type and info :')\n",
    "    print(df.info())\n",
    "    print('='*50)\n",
    "    print('Missing value information : \\n',df.isnull().any())\n",
    "    print('='*50)\n",
    "    print('Sum of missing values if any : \\n',df.isnull().sum())"
   ]
  },
  {
   "cell_type": "code",
   "execution_count": 11,
   "metadata": {},
   "outputs": [
    {
     "name": "stdout",
     "output_type": "stream",
     "text": [
      "==================================================\n",
      "Shape of the dataframe is: \n",
      " (1030, 9)\n",
      "==================================================\n",
      "Basic stats for the data: \n",
      "         cement     slag      ash    water  superplastic  coarseagg  fineagg  \\\n",
      "count 1,030.00 1,030.00 1,030.00 1,030.00      1,030.00   1,030.00 1,030.00   \n",
      "mean    281.17    73.90    54.19   181.57          6.20     972.92   773.58   \n",
      "std     104.51    86.28    64.00    21.35          5.97      77.75    80.18   \n",
      "min     102.00     0.00     0.00   121.80          0.00     801.00   594.00   \n",
      "25%     192.38     0.00     0.00   164.90          0.00     932.00   730.95   \n",
      "50%     272.90    22.00     0.00   185.00          6.40     968.00   779.50   \n",
      "75%     350.00   142.95   118.30   192.00         10.20   1,029.40   824.00   \n",
      "max     540.00   359.40   200.10   247.00         32.20   1,145.00   992.60   \n",
      "\n",
      "           age  strength  \n",
      "count 1,030.00  1,030.00  \n",
      "mean     45.66     35.82  \n",
      "std      63.17     16.71  \n",
      "min       1.00      2.33  \n",
      "25%       7.00     23.71  \n",
      "50%      28.00     34.45  \n",
      "75%      56.00     46.14  \n",
      "max     365.00     82.60  \n",
      "==================================================\n",
      "Data type and info :\n",
      "<class 'pandas.core.frame.DataFrame'>\n",
      "RangeIndex: 1030 entries, 0 to 1029\n",
      "Data columns (total 9 columns):\n",
      "cement          1030 non-null float64\n",
      "slag            1030 non-null float64\n",
      "ash             1030 non-null float64\n",
      "water           1030 non-null float64\n",
      "superplastic    1030 non-null float64\n",
      "coarseagg       1030 non-null float64\n",
      "fineagg         1030 non-null float64\n",
      "age             1030 non-null int64\n",
      "strength        1030 non-null float64\n",
      "dtypes: float64(8), int64(1)\n",
      "memory usage: 72.5 KB\n",
      "None\n",
      "==================================================\n",
      "Missing value information : \n",
      " cement          False\n",
      "slag            False\n",
      "ash             False\n",
      "water           False\n",
      "superplastic    False\n",
      "coarseagg       False\n",
      "fineagg         False\n",
      "age             False\n",
      "strength        False\n",
      "dtype: bool\n",
      "==================================================\n",
      "Sum of missing values if any : \n",
      " cement          0\n",
      "slag            0\n",
      "ash             0\n",
      "water           0\n",
      "superplastic    0\n",
      "coarseagg       0\n",
      "fineagg         0\n",
      "age             0\n",
      "strength        0\n",
      "dtype: int64\n"
     ]
    }
   ],
   "source": [
    "basic_checks(data)"
   ]
  },
  {
   "cell_type": "markdown",
   "metadata": {},
   "source": [
    "###### Missing values matrix"
   ]
  },
  {
   "cell_type": "code",
   "execution_count": 12,
   "metadata": {},
   "outputs": [
    {
     "data": {
      "text/plain": [
       "<matplotlib.axes._subplots.AxesSubplot at 0x7fb714745ed0>"
      ]
     },
     "execution_count": 12,
     "metadata": {},
     "output_type": "execute_result"
    },
    {
     "data": {
      "image/png": "[encoded data removed]",
      "text/plain": [
       "<Figure size 1800x720 with 2 Axes>"
      ]
     },
     "metadata": {
      "needs_background": "light"
     },
     "output_type": "display_data"
    }
   ],
   "source": [
    "msno.matrix(data)"
   ]
  },
  {
   "cell_type": "markdown",
   "metadata": {},
   "source": [
    "Clearly there's no missing values in the data set."
   ]
  },
  {
   "cell_type": "markdown",
   "metadata": {},
   "source": [
    "###### Univariate and bivariate analysis"
   ]
  },
  {
   "cell_type": "code",
   "execution_count": 13,
   "metadata": {},
   "outputs": [
    {
     "data": {
      "text/html": [
       "<div>\n",
       "<style scoped>\n",
       "    .dataframe tbody tr th:only-of-type {\n",
       "        vertical-align: middle;\n",
       "    }\n",
       "\n",
       "    .dataframe tbody tr th {\n",
       "        vertical-align: top;\n",
       "    }\n",
       "\n",
       "    .dataframe thead th {\n",
       "        text-align: right;\n",
       "    }\n",
       "</style>\n",
       "<table border=\"1\" class=\"dataframe\">\n",
       "  <thead>\n",
       "    <tr style=\"text-align: right;\">\n",
       "      <th></th>\n",
       "      <th>cement</th>\n",
       "      <th>slag</th>\n",
       "      <th>ash</th>\n",
       "      <th>water</th>\n",
       "      <th>superplastic</th>\n",
       "      <th>coarseagg</th>\n",
       "      <th>fineagg</th>\n",
       "      <th>age</th>\n",
       "      <th>strength</th>\n",
       "    </tr>\n",
       "  </thead>\n",
       "  <tbody>\n",
       "    <tr>\n",
       "      <th>cement</th>\n",
       "      <td>1.00</td>\n",
       "      <td>-0.28</td>\n",
       "      <td>-0.40</td>\n",
       "      <td>-0.08</td>\n",
       "      <td>0.09</td>\n",
       "      <td>-0.11</td>\n",
       "      <td>-0.22</td>\n",
       "      <td>0.08</td>\n",
       "      <td>0.50</td>\n",
       "    </tr>\n",
       "    <tr>\n",
       "      <th>slag</th>\n",
       "      <td>-0.28</td>\n",
       "      <td>1.00</td>\n",
       "      <td>-0.32</td>\n",
       "      <td>0.11</td>\n",
       "      <td>0.04</td>\n",
       "      <td>-0.28</td>\n",
       "      <td>-0.28</td>\n",
       "      <td>-0.04</td>\n",
       "      <td>0.13</td>\n",
       "    </tr>\n",
       "    <tr>\n",
       "      <th>ash</th>\n",
       "      <td>-0.40</td>\n",
       "      <td>-0.32</td>\n",
       "      <td>1.00</td>\n",
       "      <td>-0.26</td>\n",
       "      <td>0.38</td>\n",
       "      <td>-0.01</td>\n",
       "      <td>0.08</td>\n",
       "      <td>-0.15</td>\n",
       "      <td>-0.11</td>\n",
       "    </tr>\n",
       "    <tr>\n",
       "      <th>water</th>\n",
       "      <td>-0.08</td>\n",
       "      <td>0.11</td>\n",
       "      <td>-0.26</td>\n",
       "      <td>1.00</td>\n",
       "      <td>-0.66</td>\n",
       "      <td>-0.18</td>\n",
       "      <td>-0.45</td>\n",
       "      <td>0.28</td>\n",
       "      <td>-0.29</td>\n",
       "    </tr>\n",
       "    <tr>\n",
       "      <th>superplastic</th>\n",
       "      <td>0.09</td>\n",
       "      <td>0.04</td>\n",
       "      <td>0.38</td>\n",
       "      <td>-0.66</td>\n",
       "      <td>1.00</td>\n",
       "      <td>-0.27</td>\n",
       "      <td>0.22</td>\n",
       "      <td>-0.19</td>\n",
       "      <td>0.37</td>\n",
       "    </tr>\n",
       "    <tr>\n",
       "      <th>coarseagg</th>\n",
       "      <td>-0.11</td>\n",
       "      <td>-0.28</td>\n",
       "      <td>-0.01</td>\n",
       "      <td>-0.18</td>\n",
       "      <td>-0.27</td>\n",
       "      <td>1.00</td>\n",
       "      <td>-0.18</td>\n",
       "      <td>-0.00</td>\n",
       "      <td>-0.16</td>\n",
       "    </tr>\n",
       "    <tr>\n",
       "      <th>fineagg</th>\n",
       "      <td>-0.22</td>\n",
       "      <td>-0.28</td>\n",
       "      <td>0.08</td>\n",
       "      <td>-0.45</td>\n",
       "      <td>0.22</td>\n",
       "      <td>-0.18</td>\n",
       "      <td>1.00</td>\n",
       "      <td>-0.16</td>\n",
       "      <td>-0.17</td>\n",
       "    </tr>\n",
       "    <tr>\n",
       "      <th>age</th>\n",
       "      <td>0.08</td>\n",
       "      <td>-0.04</td>\n",
       "      <td>-0.15</td>\n",
       "      <td>0.28</td>\n",
       "      <td>-0.19</td>\n",
       "      <td>-0.00</td>\n",
       "      <td>-0.16</td>\n",
       "      <td>1.00</td>\n",
       "      <td>0.33</td>\n",
       "    </tr>\n",
       "    <tr>\n",
       "      <th>strength</th>\n",
       "      <td>0.50</td>\n",
       "      <td>0.13</td>\n",
       "      <td>-0.11</td>\n",
       "      <td>-0.29</td>\n",
       "      <td>0.37</td>\n",
       "      <td>-0.16</td>\n",
       "      <td>-0.17</td>\n",
       "      <td>0.33</td>\n",
       "      <td>1.00</td>\n",
       "    </tr>\n",
       "  </tbody>\n",
       "</table>\n",
       "</div>"
      ],
      "text/plain": [
       "              cement  slag   ash  water  superplastic  coarseagg  fineagg  \\\n",
       "cement          1.00 -0.28 -0.40  -0.08          0.09      -0.11    -0.22   \n",
       "slag           -0.28  1.00 -0.32   0.11          0.04      -0.28    -0.28   \n",
       "ash            -0.40 -0.32  1.00  -0.26          0.38      -0.01     0.08   \n",
       "water          -0.08  0.11 -0.26   1.00         -0.66      -0.18    -0.45   \n",
       "superplastic    0.09  0.04  0.38  -0.66          1.00      -0.27     0.22   \n",
       "coarseagg      -0.11 -0.28 -0.01  -0.18         -0.27       1.00    -0.18   \n",
       "fineagg        -0.22 -0.28  0.08  -0.45          0.22      -0.18     1.00   \n",
       "age             0.08 -0.04 -0.15   0.28         -0.19      -0.00    -0.16   \n",
       "strength        0.50  0.13 -0.11  -0.29          0.37      -0.16    -0.17   \n",
       "\n",
       "               age  strength  \n",
       "cement        0.08      0.50  \n",
       "slag         -0.04      0.13  \n",
       "ash          -0.15     -0.11  \n",
       "water         0.28     -0.29  \n",
       "superplastic -0.19      0.37  \n",
       "coarseagg    -0.00     -0.16  \n",
       "fineagg      -0.16     -0.17  \n",
       "age           1.00      0.33  \n",
       "strength      0.33      1.00  "
      ]
     },
     "execution_count": 13,
     "metadata": {},
     "output_type": "execute_result"
    }
   ],
   "source": [
    "data.corr()"
   ]
  },
  {
   "cell_type": "code",
   "execution_count": 14,
   "metadata": {},
   "outputs": [
    {
     "data": {
      "image/png": "[encoded data removed]",
      "text/plain": [
       "<Figure size 720x576 with 1 Axes>"
      ]
     },
     "metadata": {
      "needs_background": "light"
     },
     "output_type": "display_data"
    }
   ],
   "source": [
    "plt.figure(figsize=(10,8))\n",
    "\n",
    "sns.heatmap(data.corr(),\n",
    "            annot=True,\n",
    "            linewidths=.5,\n",
    "            center=0,\n",
    "            cbar=False,\n",
    "            cmap=\"YlGnBu\")\n",
    "\n",
    "plt.show()"
   ]
  },
  {
   "cell_type": "markdown",
   "metadata": {},
   "source": [
    "#### EDA - Part 1 \n",
    "\n",
    "Basic checks\n",
    "\n",
    "1. The data frame has 1030 records and 9 columns\n",
    "2. The features in the dataset are either float/int type .\n",
    "3. The minimum strength of concrete is 2.33 and the maximum 82.6\n",
    "4. The maximum cement value is 540 and the minimum used is 102,with the average value at 281.1\n",
    "5. There’s no usage of slag (at minimum) and the maximum usage is at 359.4\n",
    "6. Average Fly Ash used is 54.19 with maximum at 200.10\n",
    "7. Average water usage is at 181.57 and maximum is at 247.\n",
    "8. Superplasticizer usage is at minimum value of 0 and maximum usage is at 32.2,with the  average value at 6.2\n",
    "9. Coarse aggregate is at a maximum of 1145 and a minimum  of 801.\n",
    "10. Fine aggregate is at an average value of 773.58 and a maximum of 992.6\n",
    "11. The average age of the concrete is 45.66 days and the maximum value is at 82.6 days with minimum at 2.33 days.\n",
    "\n",
    "#### Missing values\n",
    "\n",
    "There are no missing values in the dataset.\n",
    "\n",
    "#### Correlation matrix \n",
    "\n",
    "1. Strength and cement seem to be somewhat correlated \n",
    "2. There is also some correlation between strength and age ,strength and superplastic.\n",
    "3. Ash,water,coarseagg,fineagg are negatively correlated to the strength of the concrete.\n",
    "4. There is also a good level of negative correlation between water and superplastic & water and fine aggregate.\n"
   ]
  },
  {
   "cell_type": "markdown",
   "metadata": {},
   "source": [
    "### Univariate and bivariate plots - Continous variables "
   ]
  },
  {
   "cell_type": "code",
   "execution_count": 15,
   "metadata": {},
   "outputs": [],
   "source": [
    "def plots(variable):\n",
    "    fig=plt.figure(figsize=(10,5))\n",
    "    plt.subplot(221)\n",
    "    sns.distplot(data[variable])\n",
    "    plt.xticks(rotation=90)\n",
    "    plt.subplot(222)\n",
    "    sns.boxplot(x=data[variable])\n",
    "    plt.xticks(rotation=90)\n",
    "    plt.subplot(223)\n",
    "    sns.boxplot(x=data['strength'],y=data[variable])\n",
    "    plt.xticks(rotation=90)\n",
    "    plt.subplot(224)\n",
    "    sns.barplot(x='strength',y=data[variable],data=data)\n",
    "    plt.xticks(rotation=90)"
   ]
  },
  {
   "cell_type": "markdown",
   "metadata": {},
   "source": [
    "##### cement #####"
   ]
  },
  {
   "cell_type": "code",
   "execution_count": 16,
   "metadata": {},
   "outputs": [
    {
     "data": {
      "text/plain": [
       "<matplotlib.axes._subplots.AxesSubplot at 0x7fb710d754d0>"
      ]
     },
     "execution_count": 16,
     "metadata": {},
     "output_type": "execute_result"
    },
    {
     "data": {
      "image/png": "[encoded data removed]",
      "text/plain": [
       "<Figure size 432x288 with 1 Axes>"
      ]
     },
     "metadata": {
      "needs_background": "light"
     },
     "output_type": "display_data"
    }
   ],
   "source": [
    "sns.distplot(data['cement'])"
   ]
  },
  {
   "cell_type": "code",
   "execution_count": 17,
   "metadata": {},
   "outputs": [
    {
     "data": {
      "text/plain": [
       "(array([  0., 100., 200., 300., 400., 500., 600.]),\n",
       " <a list of 7 Text major ticklabel objects>)"
      ]
     },
     "execution_count": 17,
     "metadata": {},
     "output_type": "execute_result"
    },
    {
     "data": {
      "image/png": "[encoded data removed]",
      "text/plain": [
       "<Figure size 432x288 with 1 Axes>"
      ]
     },
     "metadata": {
      "needs_background": "light"
     },
     "output_type": "display_data"
    }
   ],
   "source": [
    "sns.boxplot(x=data['cement'])\n",
    "plt.xticks(rotation=90)"
   ]
  },
  {
   "cell_type": "raw",
   "metadata": {},
   "source": [
    "sns.barplot(x=data['cement'],y=data['strength'],data=data)\n",
    "plt.xticks(rotation=90);"
   ]
  },
  {
   "cell_type": "code",
   "execution_count": 18,
   "metadata": {},
   "outputs": [
    {
     "data": {
      "text/plain": [
       "<matplotlib.axes._subplots.AxesSubplot at 0x7fb718913d90>"
      ]
     },
     "execution_count": 18,
     "metadata": {},
     "output_type": "execute_result"
    },
    {
     "data": {
      "image/png": "[encoded data removed]",
      "text/plain": [
       "<Figure size 432x288 with 1 Axes>"
      ]
     },
     "metadata": {
      "needs_background": "light"
     },
     "output_type": "display_data"
    }
   ],
   "source": [
    "sns.scatterplot(data=data,x='cement',y='strength')"
   ]
  },
  {
   "cell_type": "code",
   "execution_count": 19,
   "metadata": {},
   "outputs": [],
   "source": [
    "def cem_cat(x):\n",
    "    if (x>100)&(x<=200):\n",
    "        return 0\n",
    "    else :\n",
    "            if (x>200)&(x<=300):\n",
    "                return 1\n",
    "            else :\n",
    "                if (x>300)&(x<=400):\n",
    "                    return 2\n",
    "                else:\n",
    "                    if(x>400)&(x<=530):\n",
    "                        return 3"
   ]
  },
  {
   "cell_type": "code",
   "execution_count": 20,
   "metadata": {},
   "outputs": [],
   "source": [
    "data['cement_category']=data['cement'].apply(cem_cat)"
   ]
  },
  {
   "cell_type": "code",
   "execution_count": 21,
   "metadata": {},
   "outputs": [
    {
     "data": {
      "text/plain": [
       "<matplotlib.axes._subplots.AxesSubplot at 0x7fb710c69790>"
      ]
     },
     "execution_count": 21,
     "metadata": {},
     "output_type": "execute_result"
    },
    {
     "data": {
      "image/png": "[encoded data removed]",
      "text/plain": [
       "<Figure size 432x288 with 1 Axes>"
      ]
     },
     "metadata": {
      "needs_background": "light"
     },
     "output_type": "display_data"
    }
   ],
   "source": [
    "sns.countplot('cement_category',data=data)"
   ]
  },
  {
   "cell_type": "markdown",
   "metadata": {},
   "source": [
    "##### slag #####"
   ]
  },
  {
   "cell_type": "code",
   "execution_count": 22,
   "metadata": {},
   "outputs": [
    {
     "data": {
      "text/plain": [
       "<matplotlib.axes._subplots.AxesSubplot at 0x7fb710ccce50>"
      ]
     },
     "execution_count": 22,
     "metadata": {},
     "output_type": "execute_result"
    },
    {
     "data": {
      "image/png": "[encoded data removed]",
      "text/plain": [
       "<Figure size 432x288 with 1 Axes>"
      ]
     },
     "metadata": {
      "needs_background": "light"
     },
     "output_type": "display_data"
    }
   ],
   "source": [
    "sns.distplot(data['slag'])"
   ]
  },
  {
   "cell_type": "code",
   "execution_count": 23,
   "metadata": {},
   "outputs": [
    {
     "data": {
      "text/plain": [
       "<matplotlib.axes._subplots.AxesSubplot at 0x7fb710cdad10>"
      ]
     },
     "execution_count": 23,
     "metadata": {},
     "output_type": "execute_result"
    },
    {
     "data": {
      "image/png": "[encoded data removed]",
      "text/plain": [
       "<Figure size 432x288 with 1 Axes>"
      ]
     },
     "metadata": {
      "needs_background": "light"
     },
     "output_type": "display_data"
    }
   ],
   "source": [
    "sns.boxplot(x=data['slag'])"
   ]
  },
  {
   "cell_type": "code",
   "execution_count": 24,
   "metadata": {},
   "outputs": [
    {
     "data": {
      "text/plain": [
       "<matplotlib.axes._subplots.AxesSubplot at 0x7fb718b47210>"
      ]
     },
     "execution_count": 24,
     "metadata": {},
     "output_type": "execute_result"
    },
    {
     "data": {
      "image/png": "[encoded data removed]",
      "text/plain": [
       "<Figure size 432x288 with 1 Axes>"
      ]
     },
     "metadata": {
      "needs_background": "light"
     },
     "output_type": "display_data"
    }
   ],
   "source": [
    "sns.scatterplot(data=data,x='slag',y='strength',size='slag')"
   ]
  },
  {
   "cell_type": "code",
   "execution_count": 25,
   "metadata": {},
   "outputs": [],
   "source": [
    "def slag_cat(x):\n",
    "    if (x==0):\n",
    "        return 0\n",
    "    else:\n",
    "        if (x>0)&(x<=100):\n",
    "            return 1\n",
    "        else:\n",
    "            if (x>100)&(x<=200):\n",
    "                return 2\n",
    "            else:\n",
    "                if (x>200)&(x<=300):\n",
    "                    return 3\n",
    "                else:\n",
    "                    if(x>300)&(x<=400):\n",
    "                        return 4"
   ]
  },
  {
   "cell_type": "code",
   "execution_count": 26,
   "metadata": {},
   "outputs": [],
   "source": [
    "data['slag_category']=data['slag'].apply(slag_cat)"
   ]
  },
  {
   "cell_type": "code",
   "execution_count": 27,
   "metadata": {},
   "outputs": [
    {
     "data": {
      "text/plain": [
       "<matplotlib.axes._subplots.AxesSubplot at 0x7fb718c63bd0>"
      ]
     },
     "execution_count": 27,
     "metadata": {},
     "output_type": "execute_result"
    },
    {
     "data": {
      "image/png": "[encoded data removed]",
      "text/plain": [
       "<Figure size 432x288 with 1 Axes>"
      ]
     },
     "metadata": {
      "needs_background": "light"
     },
     "output_type": "display_data"
    }
   ],
   "source": [
    "sns.countplot(data['slag_category'],data=data)"
   ]
  },
  {
   "cell_type": "markdown",
   "metadata": {},
   "source": [
    "##### ash #####"
   ]
  },
  {
   "cell_type": "code",
   "execution_count": 28,
   "metadata": {},
   "outputs": [
    {
     "data": {
      "text/plain": [
       "<matplotlib.axes._subplots.AxesSubplot at 0x7fb715493410>"
      ]
     },
     "execution_count": 28,
     "metadata": {},
     "output_type": "execute_result"
    },
    {
     "data": {
      "image/png": "[encoded data removed]",
      "text/plain": [
       "<Figure size 432x288 with 1 Axes>"
      ]
     },
     "metadata": {
      "needs_background": "light"
     },
     "output_type": "display_data"
    }
   ],
   "source": [
    "sns.distplot(data['ash'])"
   ]
  },
  {
   "cell_type": "code",
   "execution_count": 29,
   "metadata": {},
   "outputs": [
    {
     "data": {
      "text/plain": [
       "<matplotlib.axes._subplots.AxesSubplot at 0x7fb7156b4990>"
      ]
     },
     "execution_count": 29,
     "metadata": {},
     "output_type": "execute_result"
    },
    {
     "data": {
      "image/png": "[encoded data removed]",
      "text/plain": [
       "<Figure size 432x288 with 1 Axes>"
      ]
     },
     "metadata": {
      "needs_background": "light"
     },
     "output_type": "display_data"
    }
   ],
   "source": [
    "sns.boxplot(x=data['ash'])"
   ]
  },
  {
   "cell_type": "code",
   "execution_count": 30,
   "metadata": {},
   "outputs": [
    {
     "data": {
      "text/plain": [
       "<matplotlib.axes._subplots.AxesSubplot at 0x7fb71549ced0>"
      ]
     },
     "execution_count": 30,
     "metadata": {},
     "output_type": "execute_result"
    },
    {
     "data": {
      "image/png": "[encoded data removed]",
      "text/plain": [
       "<Figure size 432x288 with 1 Axes>"
      ]
     },
     "metadata": {
      "needs_background": "light"
     },
     "output_type": "display_data"
    }
   ],
   "source": [
    "sns.scatterplot(data=data,x='ash',y='strength',size='ash')"
   ]
  },
  {
   "cell_type": "code",
   "execution_count": 31,
   "metadata": {},
   "outputs": [],
   "source": [
    "def ash_cat(x):\n",
    "    if (x==0):\n",
    "        return 0\n",
    "    else :\n",
    "        if (x>0)&(x<=100):\n",
    "            return 1\n",
    "        else :\n",
    "        \n",
    "            if (x>100)&(x<=150):\n",
    "                return 2\n",
    "            else:\n",
    "                \n",
    "                    if (x>150)&(x<=200):\n",
    "                        return 3\n",
    "            "
   ]
  },
  {
   "cell_type": "code",
   "execution_count": 32,
   "metadata": {},
   "outputs": [],
   "source": [
    "data['ash_category']=data['ash'].apply(ash_cat)"
   ]
  },
  {
   "cell_type": "code",
   "execution_count": 33,
   "metadata": {},
   "outputs": [
    {
     "data": {
      "text/html": [
       "<div>\n",
       "<style scoped>\n",
       "    .dataframe tbody tr th:only-of-type {\n",
       "        vertical-align: middle;\n",
       "    }\n",
       "\n",
       "    .dataframe tbody tr th {\n",
       "        vertical-align: top;\n",
       "    }\n",
       "\n",
       "    .dataframe thead th {\n",
       "        text-align: right;\n",
       "    }\n",
       "</style>\n",
       "<table border=\"1\" class=\"dataframe\">\n",
       "  <thead>\n",
       "    <tr style=\"text-align: right;\">\n",
       "      <th></th>\n",
       "      <th>cement</th>\n",
       "      <th>slag</th>\n",
       "      <th>ash</th>\n",
       "      <th>water</th>\n",
       "      <th>superplastic</th>\n",
       "      <th>coarseagg</th>\n",
       "      <th>fineagg</th>\n",
       "      <th>age</th>\n",
       "      <th>strength</th>\n",
       "      <th>cement_category</th>\n",
       "      <th>slag_category</th>\n",
       "      <th>ash_category</th>\n",
       "    </tr>\n",
       "  </thead>\n",
       "  <tbody>\n",
       "    <tr>\n",
       "      <th>0</th>\n",
       "      <td>141.30</td>\n",
       "      <td>212.00</td>\n",
       "      <td>0.00</td>\n",
       "      <td>203.50</td>\n",
       "      <td>0.00</td>\n",
       "      <td>971.80</td>\n",
       "      <td>748.50</td>\n",
       "      <td>28</td>\n",
       "      <td>29.89</td>\n",
       "      <td>0.00</td>\n",
       "      <td>3</td>\n",
       "      <td>0.00</td>\n",
       "    </tr>\n",
       "    <tr>\n",
       "      <th>1</th>\n",
       "      <td>168.90</td>\n",
       "      <td>42.20</td>\n",
       "      <td>124.30</td>\n",
       "      <td>158.30</td>\n",
       "      <td>10.80</td>\n",
       "      <td>1,080.80</td>\n",
       "      <td>796.20</td>\n",
       "      <td>14</td>\n",
       "      <td>23.51</td>\n",
       "      <td>0.00</td>\n",
       "      <td>1</td>\n",
       "      <td>2.00</td>\n",
       "    </tr>\n",
       "    <tr>\n",
       "      <th>2</th>\n",
       "      <td>250.00</td>\n",
       "      <td>0.00</td>\n",
       "      <td>95.70</td>\n",
       "      <td>187.40</td>\n",
       "      <td>5.50</td>\n",
       "      <td>956.90</td>\n",
       "      <td>861.20</td>\n",
       "      <td>28</td>\n",
       "      <td>29.22</td>\n",
       "      <td>1.00</td>\n",
       "      <td>0</td>\n",
       "      <td>1.00</td>\n",
       "    </tr>\n",
       "    <tr>\n",
       "      <th>3</th>\n",
       "      <td>266.00</td>\n",
       "      <td>114.00</td>\n",
       "      <td>0.00</td>\n",
       "      <td>228.00</td>\n",
       "      <td>0.00</td>\n",
       "      <td>932.00</td>\n",
       "      <td>670.00</td>\n",
       "      <td>28</td>\n",
       "      <td>45.85</td>\n",
       "      <td>1.00</td>\n",
       "      <td>2</td>\n",
       "      <td>0.00</td>\n",
       "    </tr>\n",
       "    <tr>\n",
       "      <th>4</th>\n",
       "      <td>154.80</td>\n",
       "      <td>183.40</td>\n",
       "      <td>0.00</td>\n",
       "      <td>193.30</td>\n",
       "      <td>9.10</td>\n",
       "      <td>1,047.40</td>\n",
       "      <td>696.70</td>\n",
       "      <td>28</td>\n",
       "      <td>18.29</td>\n",
       "      <td>0.00</td>\n",
       "      <td>2</td>\n",
       "      <td>0.00</td>\n",
       "    </tr>\n",
       "  </tbody>\n",
       "</table>\n",
       "</div>"
      ],
      "text/plain": [
       "   cement   slag    ash  water  superplastic  coarseagg  fineagg  age  \\\n",
       "0  141.30 212.00   0.00 203.50          0.00     971.80   748.50   28   \n",
       "1  168.90  42.20 124.30 158.30         10.80   1,080.80   796.20   14   \n",
       "2  250.00   0.00  95.70 187.40          5.50     956.90   861.20   28   \n",
       "3  266.00 114.00   0.00 228.00          0.00     932.00   670.00   28   \n",
       "4  154.80 183.40   0.00 193.30          9.10   1,047.40   696.70   28   \n",
       "\n",
       "   strength  cement_category  slag_category  ash_category  \n",
       "0     29.89             0.00              3          0.00  \n",
       "1     23.51             0.00              1          2.00  \n",
       "2     29.22             1.00              0          1.00  \n",
       "3     45.85             1.00              2          0.00  \n",
       "4     18.29             0.00              2          0.00  "
      ]
     },
     "execution_count": 33,
     "metadata": {},
     "output_type": "execute_result"
    }
   ],
   "source": [
    "data.head()"
   ]
  },
  {
   "cell_type": "code",
   "execution_count": 34,
   "metadata": {},
   "outputs": [
    {
     "data": {
      "text/plain": [
       "<matplotlib.axes._subplots.AxesSubplot at 0x7fb715896650>"
      ]
     },
     "execution_count": 34,
     "metadata": {},
     "output_type": "execute_result"
    },
    {
     "data": {
      "image/png": "[encoded data removed]",
      "text/plain": [
       "<Figure size 432x288 with 1 Axes>"
      ]
     },
     "metadata": {
      "needs_background": "light"
     },
     "output_type": "display_data"
    }
   ],
   "source": [
    "sns.countplot('ash_category',data=data)"
   ]
  },
  {
   "cell_type": "markdown",
   "metadata": {},
   "source": [
    "##### water #####"
   ]
  },
  {
   "cell_type": "code",
   "execution_count": 35,
   "metadata": {},
   "outputs": [
    {
     "data": {
      "text/plain": [
       "<matplotlib.axes._subplots.AxesSubplot at 0x7fb71597c650>"
      ]
     },
     "execution_count": 35,
     "metadata": {},
     "output_type": "execute_result"
    },
    {
     "data": {
      "image/png": "[encoded data removed]",
      "text/plain": [
       "<Figure size 432x288 with 1 Axes>"
      ]
     },
     "metadata": {
      "needs_background": "light"
     },
     "output_type": "display_data"
    }
   ],
   "source": [
    "sns.distplot(data['water'])"
   ]
  },
  {
   "cell_type": "code",
   "execution_count": null,
   "metadata": {},
   "outputs": [],
   "source": [
    "def wat_cat(x):\n",
    "    if(x>=120)&(x<=145):\n",
    "        return 0\n",
    "    else:\n",
    "        if(x>145)&(x<=170):\n",
    "            return 1\n",
    "        else:\n",
    "            if(x>170)&(x<=195):\n",
    "                return 2\n",
    "            else:\n",
    "                if(x>195)&(x<=230):\n",
    "                    return 3"
   ]
  },
  {
   "cell_type": "code",
   "execution_count": null,
   "metadata": {},
   "outputs": [],
   "source": [
    "data['water_category']=data['water'].apply(wat_cat)"
   ]
  },
  {
   "cell_type": "code",
   "execution_count": null,
   "metadata": {},
   "outputs": [],
   "source": [
    "sns.boxplot(data['water'])"
   ]
  },
  {
   "cell_type": "code",
   "execution_count": null,
   "metadata": {},
   "outputs": [],
   "source": [
    "sns.scatterplot(data=data,x='water',y='strength',size='water')"
   ]
  },
  {
   "cell_type": "code",
   "execution_count": null,
   "metadata": {},
   "outputs": [],
   "source": [
    "data.head()"
   ]
  },
  {
   "cell_type": "code",
   "execution_count": null,
   "metadata": {},
   "outputs": [],
   "source": [
    "sns.countplot(data['water_category'],data=data)"
   ]
  },
  {
   "cell_type": "markdown",
   "metadata": {},
   "source": [
    "##### superplastic #####"
   ]
  },
  {
   "cell_type": "code",
   "execution_count": 36,
   "metadata": {},
   "outputs": [
    {
     "data": {
      "text/plain": [
       "<matplotlib.axes._subplots.AxesSubplot at 0x7fb715a4a750>"
      ]
     },
     "execution_count": 36,
     "metadata": {},
     "output_type": "execute_result"
    },
    {
     "data": {
      "image/png": "[encoded data removed]",
      "text/plain": [
       "<Figure size 432x288 with 1 Axes>"
      ]
     },
     "metadata": {
      "needs_background": "light"
     },
     "output_type": "display_data"
    }
   ],
   "source": [
    "sns.distplot(data['superplastic'])"
   ]
  },
  {
   "cell_type": "code",
   "execution_count": null,
   "metadata": {},
   "outputs": [],
   "source": [
    "sns.scatterplot(data=data,x='superplastic',y='strength',size='superplastic')"
   ]
  },
  {
   "cell_type": "code",
   "execution_count": null,
   "metadata": {},
   "outputs": [],
   "source": [
    "def super_cat(x):\n",
    "    if (x==0):\n",
    "        return 0\n",
    "    else:\n",
    "        if (x>0)&(x<=10):\n",
    "            return 1\n",
    "        else:\n",
    "            if(x>10)&(x<=23):\n",
    "                return 2"
   ]
  },
  {
   "cell_type": "code",
   "execution_count": null,
   "metadata": {},
   "outputs": [],
   "source": [
    "data['superplastic_category']=data['superplastic'].apply(super_cat)"
   ]
  },
  {
   "cell_type": "code",
   "execution_count": null,
   "metadata": {},
   "outputs": [],
   "source": [
    "data.head()"
   ]
  },
  {
   "cell_type": "code",
   "execution_count": null,
   "metadata": {},
   "outputs": [],
   "source": [
    "sns.countplot(data['superplastic_category'],data=data)"
   ]
  },
  {
   "cell_type": "code",
   "execution_count": null,
   "metadata": {},
   "outputs": [],
   "source": [
    "sns.boxplot(data['superplastic'])"
   ]
  },
  {
   "cell_type": "markdown",
   "metadata": {},
   "source": [
    "##### coarseagg #####"
   ]
  },
  {
   "cell_type": "code",
   "execution_count": 37,
   "metadata": {},
   "outputs": [
    {
     "data": {
      "text/plain": [
       "<matplotlib.axes._subplots.AxesSubplot at 0x7fb715a29090>"
      ]
     },
     "execution_count": 37,
     "metadata": {},
     "output_type": "execute_result"
    },
    {
     "data": {
      "image/png": "[encoded data removed]",
      "text/plain": [
       "<Figure size 432x288 with 1 Axes>"
      ]
     },
     "metadata": {
      "needs_background": "light"
     },
     "output_type": "display_data"
    }
   ],
   "source": [
    "sns.distplot(data['coarseagg'])"
   ]
  },
  {
   "cell_type": "code",
   "execution_count": null,
   "metadata": {},
   "outputs": [],
   "source": [
    "sns.scatterplot(data=data,x='coarseagg',y='strength',size='coarseagg')"
   ]
  },
  {
   "cell_type": "code",
   "execution_count": null,
   "metadata": {},
   "outputs": [],
   "source": [
    "def coarse_cat(x):\n",
    "    if (x>=800)&(x<=900):\n",
    "        return 0\n",
    "    else:\n",
    "            if (x>900)&(x<=1000):\n",
    "                return 1\n",
    "            else:\n",
    "                if(x>1000)&(x<=1200):\n",
    "                    return 2\n",
    "                 "
   ]
  },
  {
   "cell_type": "code",
   "execution_count": null,
   "metadata": {},
   "outputs": [],
   "source": [
    "data['coarseagg_category']=data['coarseagg'].apply(coarse_cat)"
   ]
  },
  {
   "cell_type": "code",
   "execution_count": null,
   "metadata": {},
   "outputs": [],
   "source": [
    "data.head()"
   ]
  },
  {
   "cell_type": "code",
   "execution_count": null,
   "metadata": {},
   "outputs": [],
   "source": [
    "sns.countplot(data['coarseagg_category'])"
   ]
  },
  {
   "cell_type": "code",
   "execution_count": null,
   "metadata": {},
   "outputs": [],
   "source": [
    "sns.boxplot(data['coarseagg'])"
   ]
  },
  {
   "cell_type": "markdown",
   "metadata": {},
   "source": [
    "##### fineagg #####"
   ]
  },
  {
   "cell_type": "code",
   "execution_count": 38,
   "metadata": {},
   "outputs": [
    {
     "data": {
      "text/plain": [
       "<matplotlib.axes._subplots.AxesSubplot at 0x7fb714724250>"
      ]
     },
     "execution_count": 38,
     "metadata": {},
     "output_type": "execute_result"
    },
    {
     "data": {
      "image/png": "[encoded data removed]",
      "text/plain": [
       "<Figure size 432x288 with 1 Axes>"
      ]
     },
     "metadata": {
      "needs_background": "light"
     },
     "output_type": "display_data"
    }
   ],
   "source": [
    "sns.distplot(data['fineagg'])"
   ]
  },
  {
   "cell_type": "code",
   "execution_count": null,
   "metadata": {},
   "outputs": [],
   "source": [
    "sns.boxplot(data['fineagg'])"
   ]
  },
  {
   "cell_type": "code",
   "execution_count": null,
   "metadata": {},
   "outputs": [],
   "source": [
    "sns.scatterplot(data=data,x='fineagg',y='strength',size='fineagg')"
   ]
  },
  {
   "cell_type": "code",
   "execution_count": null,
   "metadata": {},
   "outputs": [],
   "source": [
    "def fineagg_cat(x):\n",
    "    if (x>590)&(x<=700):\n",
    "        return 0\n",
    "    else:\n",
    "        if (x>700)&(x<=800):\n",
    "            return 1\n",
    "        else:\n",
    "            if(x>800)&(x<=945):\n",
    "                return 2"
   ]
  },
  {
   "cell_type": "code",
   "execution_count": null,
   "metadata": {},
   "outputs": [],
   "source": [
    "data['fineagg_category']=data['fineagg'].apply(fineagg_cat)"
   ]
  },
  {
   "cell_type": "code",
   "execution_count": null,
   "metadata": {},
   "outputs": [],
   "source": [
    "data.head()"
   ]
  },
  {
   "cell_type": "code",
   "execution_count": null,
   "metadata": {},
   "outputs": [],
   "source": [
    "sns.countplot(data['fineagg_category'])"
   ]
  },
  {
   "cell_type": "markdown",
   "metadata": {},
   "source": [
    "##### age #####"
   ]
  },
  {
   "cell_type": "code",
   "execution_count": 39,
   "metadata": {},
   "outputs": [
    {
     "data": {
      "text/plain": [
       "<matplotlib.axes._subplots.AxesSubplot at 0x7fb715dc9850>"
      ]
     },
     "execution_count": 39,
     "metadata": {},
     "output_type": "execute_result"
    },
    {
     "data": {
      "image/png": "[encoded data removed]",
      "text/plain": [
       "<Figure size 432x288 with 1 Axes>"
      ]
     },
     "metadata": {
      "needs_background": "light"
     },
     "output_type": "display_data"
    }
   ],
   "source": [
    "sns.distplot(data['age'])"
   ]
  },
  {
   "cell_type": "code",
   "execution_count": null,
   "metadata": {},
   "outputs": [],
   "source": [
    "sns.boxplot(data['age'])"
   ]
  },
  {
   "cell_type": "code",
   "execution_count": null,
   "metadata": {},
   "outputs": [],
   "source": [
    "sns.countplot(data['age'])"
   ]
  },
  {
   "cell_type": "code",
   "execution_count": null,
   "metadata": {},
   "outputs": [],
   "source": [
    "sns.scatterplot(data=data,x='age',y='strength',size='age')"
   ]
  },
  {
   "cell_type": "markdown",
   "metadata": {},
   "source": [
    "##### Additional scatter plots - Multivariate analysis #####"
   ]
  },
  {
   "cell_type": "code",
   "execution_count": null,
   "metadata": {},
   "outputs": [],
   "source": [
    "fig, ax = plt.subplots(figsize=(10,7))\n",
    "sns.scatterplot(y=\"strength\", x=\"cement\", hue=\"water\", data=data, ax=ax, sizes=(50, 300))\n",
    "ax.set_title(\"Strength vs (Cement,Water)\")\n",
    "ax.legend(loc=\"upper left\", bbox_to_anchor=(1,1))\n",
    "plt.show()"
   ]
  },
  {
   "cell_type": "markdown",
   "metadata": {},
   "source": [
    "1.Strength increases with the amount of cement \n",
    "2.Strength seems to increase with a certain lesser proportions of water are used"
   ]
  },
  {
   "cell_type": "code",
   "execution_count": null,
   "metadata": {},
   "outputs": [],
   "source": [
    "fig, ax = plt.subplots(figsize=(10,7))\n",
    "sns.scatterplot(y=\"strength\", x=\"age\", hue=\"water\", data=data, ax=ax, sizes=(50, 300))\n",
    "ax.set_title(\"Strength vs (Age,Water)\")\n",
    "ax.legend(loc=\"upper left\", bbox_to_anchor=(1,1))\n",
    "plt.show()"
   ]
  },
  {
   "cell_type": "markdown",
   "metadata": {},
   "source": [
    "1.Concrete with higher strength seems to be using lesser water\n",
    "2.There's slight variation in the strength with the age of the concrete"
   ]
  },
  {
   "cell_type": "code",
   "execution_count": null,
   "metadata": {},
   "outputs": [],
   "source": [
    "\n",
    "fig, ax = plt.subplots(figsize=(10,7))\n",
    "sns.scatterplot(y=\"strength\", x=\"fineagg\", hue=\"ash\", size=\"superplastic\", \n",
    "                data=data, ax=ax, sizes=(50, 300))\n",
    "ax.set_title(\"Strength vs (Fineagg, Superplastic,ash)\")\n",
    "ax.legend(loc=\"upper left\", bbox_to_anchor=(1,1))\n",
    "plt.show()"
   ]
  },
  {
   "cell_type": "markdown",
   "metadata": {},
   "source": [
    "1.As ash increases strength decreases\n",
    "2.Lower ash shows higher strength\n",
    "3.fineagg increases strength of the concrete decreases\n",
    "4.strength increases with superplastic"
   ]
  },
  {
   "cell_type": "markdown",
   "metadata": {},
   "source": [
    "###### Dependant variable distribution"
   ]
  },
  {
   "cell_type": "code",
   "execution_count": null,
   "metadata": {},
   "outputs": [],
   "source": [
    "data['strength'].describe()"
   ]
  },
  {
   "cell_type": "code",
   "execution_count": null,
   "metadata": {},
   "outputs": [],
   "source": [
    "sns.distplot(data['strength'])"
   ]
  },
  {
   "cell_type": "code",
   "execution_count": null,
   "metadata": {},
   "outputs": [],
   "source": [
    "sns.boxplot(data['strength'])"
   ]
  },
  {
   "cell_type": "markdown",
   "metadata": {},
   "source": [
    "EDA - part 2 \n",
    "\n",
    "Univariate analysis \n",
    "\n",
    "Cement\n",
    "\n",
    "1. Distribution of the cement variable is slightly skewed\n",
    "2. Boxplot shows the median value at 280 .\n",
    "3. A majority of the data used are for cement quantity between 200 & 300 Kg.\n",
    "4. A scatterplot between strength and cement shows higher the amount of cement ,greater the strength of the concrete.\n",
    "\n",
    "Slag/Blast furnace slag\n",
    "\n",
    "1. Slag increases the strength and durability of concrete.\n",
    "2. We see the distribution of the variable is non normal and right skewed\n",
    "3. We see some outliers in the data which are above350\n",
    "4. A scatterplot shows no strict relationship between concrete strength and blast furnace slag\n",
    "5. We see varied strengths when slag usage is 0 .Higher slag usage shows no improvement in strength of the concrete.\n",
    "6. No blast furnace slag is the most used option, followed by 100-200 Kg in m3.\n",
    "\n",
    "Ash /Fly Ash\n",
    "\n",
    "1. Fly ash and concrete strength are negatively related.\n",
    "2. The variable distribution is right skewed and non normal \n",
    "3. The box plot shows no outliers in the data\n",
    "4. Increase in the usage of Fly ash seems to show some level of decrease in strength although they may not be correlated fully.\n",
    "5. Those that have high strength show no/low usage of Fly ash from the visual in the scatterplot.\n",
    "6. Most use ash option is 0 Kg/m3,followed by 100-150 kg/m3\n",
    "\n",
    "Water\n",
    "\n",
    "1. Distribution of the water variable is far less skewed and looks somewhat normal \n",
    "2. The data however shows some outliers \n",
    "3. From the scatterplot, those with highest strength seems to be using a moderate mix of water ,not too low ,not too high \n",
    "4. Most use between 170-195 kg/m3 water to strengthen the concrete \n",
    "\n",
    "Superplastic/superplasticizer\n",
    "\n",
    "Superplasticizer are used to ensure better flow properties because they minimize particle segregation. Further, they allow to decrease the water-cement ratio which leads to higher compressive strength.\n",
    "\n",
    "1. There is some correlation between concrete strength and the usage of superplasticizer.\n",
    "2. The data distribution is non normal and looks like a sinusoidal distribution, that’s right skewed .\n",
    "3. Moderate to high quantities of super plasticiser are used to increase the strength of the concrete.\n",
    "4. There’s nearly equal distribution in the usage of superplasticizer<=10 and no usage of superplasticizer\n",
    "5. There are outliers in this data and they need to be treated.\n",
    "\n",
    "Coarse agg/Coarse aggregate \n",
    "\n",
    "1. Shows close to normal distribution of the data .boxplot shows uniform distribution of data with median above 950.\n",
    "2. High usage of coarse aggregate seems to be lower the concrete strength form what’s seen in the scatterplot.\n",
    "3. Most popular usage option for coarse aggregate is >900 kg/m3 and <=1000 kg/m3.\n",
    "\n",
    "Fineagg/Fine aggregate \n",
    "\n",
    "1. The distribution looks close to normal ,the box plot shows even distribution with outliers .The median value lies between 750-800.\n",
    "2. Fineagg and Strength are negatively correlated ,increase in the usage of fine aggregate quantity decreases the concrete strength.\n",
    "3. Most used option is between 700-800 Kg/m3 of fine aggregate.\n",
    "\n",
    "Age \n",
    "\n",
    "1. Age data is extremely right skewed ,with a lot of outliers in it.The outliers need to be treated to study this variable.\n",
    "2. Most popular age option is 28 days ,followed by 3 & 7 \n",
    "3. Very high ages show a decrease in the concrete strength,those that are between 25-100 days show relatively higher strength of concrete.\n",
    "\n",
    "Multivariate plots \n",
    "\n",
    "Strength vs Cement & Water \n",
    "\n",
    "1. Strength increases with the amount of cement \n",
    "2. Strength seems to increase with a certain lesser proportions of water are used.\n",
    "\n",
    "Strength vs Age & Water\n",
    "\n",
    "1. Concrete with higher strength seems to be using lesser water \n",
    "2. There's slight variation in the strength with the age of the concrete\n",
    "\n",
    "Strength vs Fineagg, superplastic & ash\n",
    "\n",
    "1. As ash increases strength decreases \n",
    "2. Lower ash shows higher strength \n",
    "3. fineagg increases strength of the concrete decreases \n",
    "4. strength increases with superplastic\n",
    "\n",
    "Dependant variable distribution\n",
    "\n",
    "1. Strength shows close to normal distribution with some outliers close to 80 Mpa\n",
    "2. Median strength is at 34.45 Mpa and mean is at 35.83 Mpa ,not much difference between the mean and median indicating a close to normal distribution."
   ]
  },
  {
   "cell_type": "code",
   "execution_count": null,
   "metadata": {},
   "outputs": [],
   "source": [
    "############################# Data Preprocessing ############################################"
   ]
  },
  {
   "cell_type": "markdown",
   "metadata": {},
   "source": [
    "##### Data Preprocessing #####"
   ]
  },
  {
   "cell_type": "markdown",
   "metadata": {},
   "source": [
    "**Outlier treatment** \n",
    "\n",
    "1. A function was written to determine the outliers for the input variable ,based on the output of this function the outliers are either replaced with central value(median) or lower or upper bound values.\n",
    "2. Variables Slag,Water,Superplastic,Fineagg,Age have outliers in the data and need to be treated to replace values with either central values/upper bound or lower bound values .\n",
    "3. After treatment was done ,check the box plots to see if there’s still any outliers and also the distribution of the data.\n",
    "\n",
    "\n",
    "**Feature engineering -Introducing new variables and dropping the unwanted variables**\n",
    "\n",
    "1. Observing all the variables and trying to understand the correlations between them ,we see that there’s no variable that’s highly correlated which can be hence dropped .\n",
    "2. Using the domain understanding for this problem ,we understand that water to cement ratio is an important aspect that would be checked when determining the strength of concrete.\n",
    "3. The water–cement ratio is the ratio of the weight of water to the weight of cement used in a concrete mix. A lower ratio leads to higher strength and durability, but may make the mix difficult to work with and form. Workability can be resolved with the use of super-plasticizers.\n",
    "4. Plotting a scatterplot shows us that greater strength of concrete is with water to cement ration lesser than 0.6 and greater than 0.45.\n",
    "5. We will go ahead and drop the main variables corresponding to the water/cement ratio in the hope that this added new variable will be able to explain the dependant variable well enough .\n",
    "\n",
    "**NB**\n",
    "\n",
    "The model and its results were run with both water/ cement ratio and also without it and the water/cement ratio explained the data well ,without much overfitting the data, which is why this model was picked up to be shown in detail.\n",
    "\n",
    "In short Dataset 0 = Concrete strength data (as it is - without W/C ratio)\n",
    "Dataset 1 = Concrete strength dataset with W/C ratio and dropping Water and Cement variables.\n",
    "\n",
    "**Dropping the unnecessary variables** \n",
    "\n",
    "Since we had introduced a few categorical variables during EDA ,we will drop those unnecessary variables before proceeding with scaling & modelling the data\n",
    "\n",
    "\n",
    "**Splitting the train and test data** \n",
    "\n",
    "1. We split the data into train and test \n",
    "2. derive the independent and dependant variables from the current dataset\n",
    "\n",
    "**Scaling the data** \n",
    "1. Import the necessary variables for scaling \n",
    "2. Fit and transform the train and test data\n"
   ]
  },
  {
   "cell_type": "markdown",
   "metadata": {},
   "source": [
    "#### Outlier treatments "
   ]
  },
  {
   "cell_type": "code",
   "execution_count": null,
   "metadata": {},
   "outputs": [],
   "source": [
    "def outlier(x):\n",
    "    sorted(x)\n",
    "    Q1,Q3=np.percentile(x,[25,75])\n",
    "    IQR=Q3-Q1\n",
    "    lower_range=Q1-(1.5*IQR)\n",
    "    upper_range=Q3+(1.5*IQR)\n",
    "    return lower_range,upper_range"
   ]
  },
  {
   "cell_type": "markdown",
   "metadata": {},
   "source": [
    "##### Slag #####"
   ]
  },
  {
   "cell_type": "code",
   "execution_count": null,
   "metadata": {},
   "outputs": [],
   "source": [
    "outlier(data['slag'])"
   ]
  },
  {
   "cell_type": "code",
   "execution_count": null,
   "metadata": {},
   "outputs": [],
   "source": [
    "A=np.percentile(data['slag'], 99.85, axis=0)\n",
    "A"
   ]
  },
  {
   "cell_type": "code",
   "execution_count": null,
   "metadata": {},
   "outputs": [],
   "source": [
    "sns.boxplot(data['slag'])"
   ]
  },
  {
   "cell_type": "code",
   "execution_count": null,
   "metadata": {},
   "outputs": [],
   "source": [
    "lowerbound,upperbound=outlier(data['slag'])"
   ]
  },
  {
   "cell_type": "code",
   "execution_count": null,
   "metadata": {},
   "outputs": [],
   "source": [
    "data[(data['slag']<lowerbound)|(data['slag']>upperbound)]"
   ]
  },
  {
   "cell_type": "code",
   "execution_count": null,
   "metadata": {},
   "outputs": [],
   "source": [
    "data['slag'].describe()"
   ]
  },
  {
   "cell_type": "code",
   "execution_count": null,
   "metadata": {},
   "outputs": [],
   "source": [
    "data['slag']=np.where(data['slag']>upperbound,357.375,data['slag'])"
   ]
  },
  {
   "cell_type": "code",
   "execution_count": null,
   "metadata": {},
   "outputs": [],
   "source": [
    "#### 2 records with outliers .Not sure how to treat them"
   ]
  },
  {
   "cell_type": "code",
   "execution_count": null,
   "metadata": {},
   "outputs": [],
   "source": [
    "data.count()"
   ]
  },
  {
   "cell_type": "markdown",
   "metadata": {},
   "source": [
    "##### Water ######"
   ]
  },
  {
   "cell_type": "code",
   "execution_count": null,
   "metadata": {},
   "outputs": [],
   "source": [
    "outlier(data['water'])"
   ]
  },
  {
   "cell_type": "code",
   "execution_count": null,
   "metadata": {},
   "outputs": [],
   "source": [
    "sns.boxplot(data['water'])"
   ]
  },
  {
   "cell_type": "code",
   "execution_count": null,
   "metadata": {},
   "outputs": [],
   "source": [
    "data['water'].describe()"
   ]
  },
  {
   "cell_type": "code",
   "execution_count": null,
   "metadata": {},
   "outputs": [],
   "source": [
    "median=np.median(data['water'])"
   ]
  },
  {
   "cell_type": "code",
   "execution_count": null,
   "metadata": {},
   "outputs": [],
   "source": [
    "lowerbound,upperbound=outlier(data['water'])"
   ]
  },
  {
   "cell_type": "code",
   "execution_count": null,
   "metadata": {},
   "outputs": [],
   "source": [
    "data[(data['water']<lowerbound)|(data['water']>upperbound)]"
   ]
  },
  {
   "cell_type": "code",
   "execution_count": null,
   "metadata": {},
   "outputs": [],
   "source": [
    "data['water']=np.where(data['water']>upperbound,232.64,data['water'])\n",
    "data['water']=np.where(data['water']<lowerbound,124.2,data['water'])"
   ]
  },
  {
   "cell_type": "markdown",
   "metadata": {},
   "source": [
    "9 outliers in the data "
   ]
  },
  {
   "cell_type": "markdown",
   "metadata": {},
   "source": [
    "##### superplastic #####"
   ]
  },
  {
   "cell_type": "code",
   "execution_count": null,
   "metadata": {},
   "outputs": [],
   "source": [
    "data['superplastic'].describe()"
   ]
  },
  {
   "cell_type": "code",
   "execution_count": null,
   "metadata": {},
   "outputs": [],
   "source": [
    "sns.boxplot(data['superplastic'])"
   ]
  },
  {
   "cell_type": "code",
   "execution_count": null,
   "metadata": {},
   "outputs": [],
   "source": [
    "outlier(data['superplastic'])"
   ]
  },
  {
   "cell_type": "code",
   "execution_count": null,
   "metadata": {},
   "outputs": [],
   "source": [
    "lowerbound,upperbound=outlier(data['superplastic'])"
   ]
  },
  {
   "cell_type": "code",
   "execution_count": null,
   "metadata": {},
   "outputs": [],
   "source": [
    "median=np.median(data['superplastic'])\n",
    "median"
   ]
  },
  {
   "cell_type": "code",
   "execution_count": null,
   "metadata": {},
   "outputs": [],
   "source": [
    "data[(data['superplastic']<lowerbound)|(data['superplastic']>upperbound)]"
   ]
  },
  {
   "cell_type": "code",
   "execution_count": null,
   "metadata": {},
   "outputs": [],
   "source": [
    "data['superplastic']=np.where(data['superplastic']>upperbound,25.5,data['superplastic'])\n",
    "#data['superplastic']=np.where(data['superplastic']<lowerbound,median,data['superplastic'])"
   ]
  },
  {
   "cell_type": "markdown",
   "metadata": {},
   "source": [
    "10 outliers in superplastic variable"
   ]
  },
  {
   "cell_type": "markdown",
   "metadata": {},
   "source": [
    "##### Fineagg #####"
   ]
  },
  {
   "cell_type": "code",
   "execution_count": null,
   "metadata": {},
   "outputs": [],
   "source": [
    "outlier(data['fineagg'])"
   ]
  },
  {
   "cell_type": "code",
   "execution_count": null,
   "metadata": {},
   "outputs": [],
   "source": [
    "sns.boxplot(data['fineagg'])"
   ]
  },
  {
   "cell_type": "code",
   "execution_count": null,
   "metadata": {},
   "outputs": [],
   "source": [
    "np.median(data['fineagg'])"
   ]
  },
  {
   "cell_type": "code",
   "execution_count": null,
   "metadata": {},
   "outputs": [],
   "source": [
    "lowerbound,upperbound=outlier(data['fineagg'])"
   ]
  },
  {
   "cell_type": "code",
   "execution_count": null,
   "metadata": {},
   "outputs": [],
   "source": [
    "data[(data['fineagg']<lowerbound)|(data['fineagg']>upperbound)]"
   ]
  },
  {
   "cell_type": "code",
   "execution_count": null,
   "metadata": {},
   "outputs": [],
   "source": [
    "data['fineagg']=np.where(data['fineagg']>upperbound,963.575,data['fineagg'])\n"
   ]
  },
  {
   "cell_type": "markdown",
   "metadata": {},
   "source": [
    "5 outliers in the data for fineagg"
   ]
  },
  {
   "cell_type": "markdown",
   "metadata": {},
   "source": [
    "##### age ######"
   ]
  },
  {
   "cell_type": "code",
   "execution_count": null,
   "metadata": {},
   "outputs": [],
   "source": [
    "outlier(data['age'])"
   ]
  },
  {
   "cell_type": "code",
   "execution_count": null,
   "metadata": {},
   "outputs": [],
   "source": [
    "sns.boxplot(data['age'])"
   ]
  },
  {
   "cell_type": "code",
   "execution_count": null,
   "metadata": {},
   "outputs": [],
   "source": [
    "np.median(data['age'])"
   ]
  },
  {
   "cell_type": "code",
   "execution_count": null,
   "metadata": {},
   "outputs": [],
   "source": [
    "data['age'].describe()"
   ]
  },
  {
   "cell_type": "code",
   "execution_count": null,
   "metadata": {},
   "outputs": [],
   "source": [
    "lowerbound,upperbound=outlier(data['age'])"
   ]
  },
  {
   "cell_type": "code",
   "execution_count": null,
   "metadata": {},
   "outputs": [],
   "source": [
    "data[(data['age']<lowerbound)|(data['age']>upperbound)].count()"
   ]
  },
  {
   "cell_type": "code",
   "execution_count": null,
   "metadata": {},
   "outputs": [],
   "source": [
    "data['age']=np.where(data['age']>upperbound,129.5,data['age'])"
   ]
  },
  {
   "cell_type": "raw",
   "metadata": {},
   "source": [
    "np.percentile(data['age'], 96.3, axis=0)"
   ]
  },
  {
   "cell_type": "markdown",
   "metadata": {},
   "source": [
    "#### Water/Cement ratio "
   ]
  },
  {
   "cell_type": "code",
   "execution_count": null,
   "metadata": {},
   "outputs": [],
   "source": [
    "data['w/c']=data['water']/data['cement']"
   ]
  },
  {
   "cell_type": "code",
   "execution_count": null,
   "metadata": {},
   "outputs": [],
   "source": [
    "data['w/c'].describe()"
   ]
  },
  {
   "cell_type": "code",
   "execution_count": null,
   "metadata": {},
   "outputs": [],
   "source": [
    "sns.boxplot(data['w/c'])"
   ]
  },
  {
   "cell_type": "code",
   "execution_count": null,
   "metadata": {},
   "outputs": [],
   "source": [
    "outlier(data['w/c'])"
   ]
  },
  {
   "cell_type": "code",
   "execution_count": null,
   "metadata": {},
   "outputs": [],
   "source": [
    "lowerbound,upperbound=outlier(data['w/c'])"
   ]
  },
  {
   "cell_type": "code",
   "execution_count": null,
   "metadata": {},
   "outputs": [],
   "source": [
    "data[(data['w/c']<lowerbound)|(data['w/c']>upperbound)].count()"
   ]
  },
  {
   "cell_type": "code",
   "execution_count": null,
   "metadata": {},
   "outputs": [],
   "source": [
    "data['w/c']=np.where(data['w/c']>upperbound,1.537,data['w/c'])"
   ]
  },
  {
   "cell_type": "code",
   "execution_count": null,
   "metadata": {},
   "outputs": [],
   "source": [
    "sns.distplot(data['w/c'])"
   ]
  },
  {
   "cell_type": "code",
   "execution_count": null,
   "metadata": {},
   "outputs": [],
   "source": [
    "sns.scatterplot(data=data,x='w/c',y='strength')"
   ]
  },
  {
   "cell_type": "code",
   "execution_count": null,
   "metadata": {},
   "outputs": [],
   "source": [
    "data.drop(['water','cement'],axis=1,inplace=True)"
   ]
  },
  {
   "cell_type": "markdown",
   "metadata": {},
   "source": [
    "##### Dropping unnecessary variables "
   ]
  },
  {
   "cell_type": "code",
   "execution_count": null,
   "metadata": {},
   "outputs": [],
   "source": [
    "data.columns"
   ]
  },
  {
   "cell_type": "code",
   "execution_count": null,
   "metadata": {},
   "outputs": [],
   "source": [
    "data.drop(['cement_category','slag_category','ash_category','water_category','superplastic_category','coarseagg_category','fineagg_category'],axis=1,inplace=True)"
   ]
  },
  {
   "cell_type": "markdown",
   "metadata": {},
   "source": [
    "#### Train Test Split "
   ]
  },
  {
   "cell_type": "code",
   "execution_count": null,
   "metadata": {},
   "outputs": [],
   "source": [
    "\n",
    "x=data.loc[:, data.columns !='strength']\n",
    "y=data['strength']"
   ]
  },
  {
   "cell_type": "code",
   "execution_count": null,
   "metadata": {},
   "outputs": [],
   "source": [
    "from sklearn.model_selection import train_test_split\n",
    "\n",
    "x_train, x_test, y_train, y_test = train_test_split(x, y, test_size=0.3, random_state=2)"
   ]
  },
  {
   "cell_type": "markdown",
   "metadata": {},
   "source": [
    "##### Scaling #####"
   ]
  },
  {
   "cell_type": "code",
   "execution_count": null,
   "metadata": {},
   "outputs": [],
   "source": [
    "from sklearn.preprocessing import StandardScaler\n",
    "sc=StandardScaler()\n",
    "x_train=sc.fit_transform(x_train)\n",
    "x_test=sc.transform(x_test)"
   ]
  },
  {
   "cell_type": "code",
   "execution_count": null,
   "metadata": {},
   "outputs": [],
   "source": [
    "############################## MODELING #######################################"
   ]
  },
  {
   "cell_type": "markdown",
   "metadata": {},
   "source": [
    "**Modeling**\n",
    "\n",
    "1. For modelling we import the required packages for the algorithms we would want to use \n",
    "2. We write a helper function to run the algorithm ,fit it and to allow us to predict on the test and train data ,along-side the metrics such as R^2,MSE,RMSE would be printed for the different algorithms \n",
    "3. A data frame would be formed with the results of each of the algorithm appended to the existing list."
   ]
  },
  {
   "cell_type": "markdown",
   "metadata": {},
   "source": [
    "###### Modeling packages #####"
   ]
  },
  {
   "cell_type": "code",
   "execution_count": null,
   "metadata": {},
   "outputs": [],
   "source": [
    "# Importing required libraries\n",
    "from sklearn.linear_model import LinearRegression, Lasso, Ridge\n",
    "from sklearn.tree import DecisionTreeRegressor\n",
    "from sklearn.ensemble import RandomForestRegressor,GradientBoostingRegressor,BaggingRegressor\n",
    "from sklearn import model_selection\n",
    "from sklearn.svm import SVR\n",
    "from sklearn.metrics import r2_score,mean_absolute_error,mean_squared_error"
   ]
  },
  {
   "cell_type": "markdown",
   "metadata": {},
   "source": [
    "#### Modeling Helper function ####"
   ]
  },
  {
   "cell_type": "code",
   "execution_count": null,
   "metadata": {},
   "outputs": [],
   "source": [
    "# Create empty lists to store the predictor and actual values \n",
    "\n",
    "Algorithm_name=[]\n",
    "Train_R2score=[]\n",
    "Test_R2score=[]\n",
    "MAE=[]\n",
    "MSE=[]\n",
    "RMSE=[]\n",
    "\n",
    "### Define a function for modeling to predict the test set \n",
    "\n",
    "def run_algorithm(algo,x_train_set,y_train_set,x_test_set,y_test_set,algo_name):\n",
    "    \n",
    "    # algo - model object\n",
    "    # x_train_set - Independent variables from train set\n",
    "    # y_train_set - Predictor variable from training set \n",
    "    # x_test_set - Independent variables from test set \n",
    "    # y_test_set - Predictor variable from test set\n",
    "    # algo_name - Algorithm Name \n",
    "    \n",
    "    # Fit the model\n",
    "    algo_model=algo.fit(x_train_set,y_train_set)\n",
    "    \n",
    "    # Preditc the Train and test values\n",
    "    \n",
    "    y_pred_test=algo.predict(x_test_set)\n",
    "    y_pred_train=algo.predict(x_train_set)\n",
    "    \n",
    "    # Print the values\n",
    "    \n",
    "    print(algo_name + ' : ')\n",
    "    print('----------------------------')\n",
    "    print ('Training R^2 Score is:',r2_score(y_train_set,y_pred_train))\n",
    "    print ('Testing R^2 Score is:',r2_score(y_test_set,y_pred_test))\n",
    "    print ('MAE is:',mean_absolute_error(y_test_set,y_pred_test))\n",
    "    print ('Mean Squared error is:',mean_squared_error(y_test_set,y_pred_test))\n",
    "    print ('Root Mean Squared error is:',np.sqrt(mean_squared_error(y_test,y_pred_test)))\n",
    "    \n",
    "    \n",
    "    ## Dataframe set up for use later\n",
    "                                          \n",
    "    Algorithm_name.append(algo_name)\n",
    "    Train_R2score.append(r2_score(y_train_set,y_pred_train))\n",
    "    Test_R2score.append(r2_score(y_test_set,y_pred_test))\n",
    "    MAE.append(mean_absolute_error(y_test_set,y_pred_test))\n",
    "    MSE.append(mean_squared_error(y_test_set,y_pred_test))\n",
    "    RMSE.append(np.sqrt(mean_squared_error(y_test_set,y_pred_test)))\n",
    "    \n",
    "    # Plot the Residuals Plot \n",
    "    plt.figure(figsize=(10, 5))\n",
    "    plt.subplot(121)\n",
    "    sns.distplot((y_test_set - y_pred_test), bins = 20) \n",
    "    plt.xlabel('Residuals')\n",
    "    plt.title('Distribution of Residuals')\n",
    "    plt.subplot(122)\n",
    "    plt.scatter(x=y_test,y=y_pred_test)\n",
    "    plt.xlabel('Actual Strength')\n",
    "    plt.ylabel('Predicted Strength')\n",
    "    plt.title('Actual vs Predicted Strength')\n",
    "    plt.show()"
   ]
  },
  {
   "cell_type": "markdown",
   "metadata": {},
   "source": [
    "#####  Linear Regression ,Degree 2 & 3 - Polynomial Features  #####\n",
    "\n",
    "We 1st run the linear regression model and then run degree 2 & 3 for the linear regression models  "
   ]
  },
  {
   "cell_type": "code",
   "execution_count": null,
   "metadata": {},
   "outputs": [],
   "source": [
    "from sklearn.preprocessing import PolynomialFeatures\n",
    "\n",
    "from sklearn.pipeline import Pipeline"
   ]
  },
  {
   "cell_type": "markdown",
   "metadata": {},
   "source": [
    "#### Linear Regression ####"
   ]
  },
  {
   "cell_type": "code",
   "execution_count": null,
   "metadata": {},
   "outputs": [],
   "source": [
    "lrr=LinearRegression()\n",
    "run_algorithm(lrr,x_train,y_train,x_test,y_test,'Linear Regression')\n"
   ]
  },
  {
   "cell_type": "markdown",
   "metadata": {},
   "source": [
    "##### Linear Regression - Degree 2"
   ]
  },
  {
   "cell_type": "code",
   "execution_count": null,
   "metadata": {},
   "outputs": [],
   "source": [
    "degree=2\n",
    "pipe=Pipeline([('poly',PolynomialFeatures(degree=degree)),('LinearRegression',LinearRegression())])\n",
    "run_algorithm(pipe,x_train,y_train,x_test,y_test,'Linear Regression-degree2')"
   ]
  },
  {
   "cell_type": "markdown",
   "metadata": {},
   "source": [
    "##### Linear Regression - Degree 3"
   ]
  },
  {
   "cell_type": "code",
   "execution_count": null,
   "metadata": {},
   "outputs": [],
   "source": [
    "degree=3\n",
    "pipe=Pipeline([('poly',PolynomialFeatures(degree=degree)),('LinearRegression',LinearRegression())])\n",
    "run_algorithm(pipe,x_train,y_train,x_test,y_test,'Linear Regression-degree3')"
   ]
  },
  {
   "cell_type": "markdown",
   "metadata": {},
   "source": [
    "#### Lasso & Ridge Regressions ####"
   ]
  },
  {
   "cell_type": "code",
   "execution_count": null,
   "metadata": {},
   "outputs": [],
   "source": [
    "la=Lasso()\n",
    "run_algorithm(la,x_train,y_train,x_test,y_test,\"Lasso Regression\")"
   ]
  },
  {
   "cell_type": "code",
   "execution_count": null,
   "metadata": {},
   "outputs": [],
   "source": [
    "ri=Ridge()\n",
    "run_algorithm(ri,x_train,y_train,x_test,y_test,'Ridge Regression')"
   ]
  },
  {
   "cell_type": "markdown",
   "metadata": {},
   "source": [
    "#### Polynomial Features -Degree 2 - Lasso & Ridge "
   ]
  },
  {
   "cell_type": "code",
   "execution_count": null,
   "metadata": {},
   "outputs": [],
   "source": [
    "degree=2\n",
    "pipe=Pipeline([('poly',PolynomialFeatures(degree=degree)),('la',Lasso())])\n",
    "run_algorithm(pipe,x_train,y_train,x_test,y_test,'Lasso-degree2')"
   ]
  },
  {
   "cell_type": "code",
   "execution_count": null,
   "metadata": {},
   "outputs": [],
   "source": [
    "degree=2\n",
    "pipe=Pipeline([('poly',PolynomialFeatures(degree=degree)),('ri',Ridge())])\n",
    "run_algorithm(pipe,x_train,y_train,x_test,y_test,'Ridge-degree2')"
   ]
  },
  {
   "cell_type": "markdown",
   "metadata": {},
   "source": [
    "##### Polynomial Features - Degree 3 - Lasso & Ridge"
   ]
  },
  {
   "cell_type": "code",
   "execution_count": null,
   "metadata": {},
   "outputs": [],
   "source": [
    "degree=3\n",
    "pipe=Pipeline([('poly',PolynomialFeatures(degree=degree)),('la',Lasso())])\n",
    "run_algorithm(pipe,x_train,y_train,x_test,y_test,'Lasso-degree3')"
   ]
  },
  {
   "cell_type": "code",
   "execution_count": null,
   "metadata": {},
   "outputs": [],
   "source": [
    "degree=3\n",
    "pipe_ridge=Pipeline([('poly',PolynomialFeatures(degree=degree)),('ri',Ridge())])\n",
    "run_algorithm(pipe_ridge,x_train,y_train,x_test,y_test,'Ridge-degree3')"
   ]
  },
  {
   "cell_type": "markdown",
   "metadata": {},
   "source": [
    "**Observations - Linear Models** \n",
    "\n",
    "1. Linear Regression gives us a R^2 score of 66 % ,which goes up with degree 2  at  84.2 and degree 3  at 0.90.\n",
    "\n",
    "2. The RMSE has significantly dropped form Linear regression model to degree 2 & 3 models \n",
    "3. Moving onto the Lasso and ridge regression linear models which give lower R^2 score ,which significantly increase with polynomial degrees introduced .\n",
    "4. Similar to simple linear regression Lasso and Ridge increase R^2 with degree 2 & 3 models, the R^2 is highest in degree 3 models .Ridge shows an R^2 score of 90.8%\n"
   ]
  },
  {
   "cell_type": "markdown",
   "metadata": {},
   "source": [
    "**Advanced algorithms** \n",
    "\n",
    "1. We run advanced models on the data without any hyper parameter tuning.\n",
    "2. Models used are RandomForest,Decision Trees,Bagging Regressor,Gradient boost regressor,Support vector regressor"
   ]
  },
  {
   "cell_type": "markdown",
   "metadata": {},
   "source": [
    "#### Random Forest Regressor ####"
   ]
  },
  {
   "cell_type": "code",
   "execution_count": null,
   "metadata": {},
   "outputs": [],
   "source": [
    "rf=RandomForestRegressor(random_state=42)\n",
    "run_algorithm(rf,x_train,y_train,x_test,y_test,'RandomForestRegressor')"
   ]
  },
  {
   "cell_type": "code",
   "execution_count": null,
   "metadata": {},
   "outputs": [],
   "source": [
    "rf.get_params()"
   ]
  },
  {
   "cell_type": "markdown",
   "metadata": {},
   "source": [
    "#### Decision Tree Regressor ####"
   ]
  },
  {
   "cell_type": "code",
   "execution_count": null,
   "metadata": {},
   "outputs": [],
   "source": [
    "dt=DecisionTreeRegressor()\n",
    "run_algorithm(dt,x_train,y_train,x_test,y_test,'DecisionTree Regressor')"
   ]
  },
  {
   "cell_type": "markdown",
   "metadata": {},
   "source": [
    "#### Bagging Regressor #### "
   ]
  },
  {
   "cell_type": "code",
   "execution_count": null,
   "metadata": {},
   "outputs": [],
   "source": [
    "bgcl=BaggingRegressor()\n",
    "run_algorithm(bgcl,x_train,y_train,x_test,y_test,'BaggingRegressor')"
   ]
  },
  {
   "cell_type": "markdown",
   "metadata": {},
   "source": [
    "#### Gradient Boost Regressor ####"
   ]
  },
  {
   "cell_type": "code",
   "execution_count": null,
   "metadata": {},
   "outputs": [],
   "source": [
    "gbcl=GradientBoostingRegressor(random_state=42)\n",
    "run_algorithm(gbcl,x_train,y_train,x_test,y_test,'GradientBoostingRegressor')"
   ]
  },
  {
   "cell_type": "code",
   "execution_count": null,
   "metadata": {},
   "outputs": [],
   "source": [
    "gbcl.get_params()"
   ]
  },
  {
   "cell_type": "raw",
   "metadata": {},
   "source": [
    "### Gradient Boosting Tuned"
   ]
  },
  {
   "cell_type": "raw",
   "metadata": {},
   "source": [
    "gbcl_tuned=GradientBoostingRegressor(n_estimators=100)\n",
    "run_algorithm(gbcl_tuned,x_train,y_train,x_test,y_test,'GradientBoostingRegressor-tuned')"
   ]
  },
  {
   "cell_type": "markdown",
   "metadata": {},
   "source": [
    "#### Support Vector Regressor ####"
   ]
  },
  {
   "cell_type": "code",
   "execution_count": null,
   "metadata": {},
   "outputs": [],
   "source": [
    "svr=SVR()\n",
    "run_algorithm(svr,x_train,y_train,x_test,y_test,'SupportVectorRegressor')"
   ]
  },
  {
   "cell_type": "markdown",
   "metadata": {},
   "source": [
    "Observations - Advanced algorithms\n",
    "\n",
    "1.The least accuracy from the models that were tried was for Support vector regressor ,the highest accuracy were for RandomForest regressor and Gradient boost algorithms with also much lower RMSE values \n",
    "2.R^2 for Random forest and gradient boost models are at 90.1,90.6% on the test data.The bagging classifier and decision tree also give good scores with some level over fitting on all the best performing algorithms\n",
    "3.We need to check how the problem of overfitting can be resolved by using the hyper parameter tuning techniques such as grid search,randomized search."
   ]
  },
  {
   "cell_type": "markdown",
   "metadata": {},
   "source": [
    "###### K Fold Cross Validation ######\n",
    "\n",
    "For the best algorithms we had tried so far we apply the K Fold cross validation method to see how the scores show up, which will allow us to cross check how our models are performing "
   ]
  },
  {
   "cell_type": "code",
   "execution_count": null,
   "metadata": {},
   "outputs": [],
   "source": [
    "from sklearn.model_selection import KFold\n",
    "from sklearn.model_selection import cross_val_score"
   ]
  },
  {
   "cell_type": "code",
   "execution_count": null,
   "metadata": {},
   "outputs": [],
   "source": [
    "num_folds=5\n",
    "seed=77\n",
    "kfold=KFold(n_splits=num_folds,random_state=seed)"
   ]
  },
  {
   "cell_type": "code",
   "execution_count": null,
   "metadata": {},
   "outputs": [],
   "source": [
    "results_rf=cross_val_score(rf,x,y,cv=kfold,scoring='r2')\n",
    "print(results_rf)\n",
    "print('='*50)\n",
    "print(np.mean(abs(results_rf)))"
   ]
  },
  {
   "cell_type": "code",
   "execution_count": null,
   "metadata": {},
   "outputs": [],
   "source": [
    "results_gbcl=cross_val_score(gbcl,x,y,cv=kfold,scoring='r2')\n",
    "print(results_gbcl)\n",
    "print('='*50)\n",
    "print(np.mean(abs(results_gbcl)))"
   ]
  },
  {
   "cell_type": "code",
   "execution_count": null,
   "metadata": {},
   "outputs": [],
   "source": [
    "results_dt=cross_val_score(dt,x,y,cv=kfold,scoring='r2')\n",
    "print(results_dt)\n",
    "print('='*50)\n",
    "print(np.mean(abs(results_dt)))"
   ]
  },
  {
   "cell_type": "code",
   "execution_count": null,
   "metadata": {},
   "outputs": [],
   "source": [
    "results_bgcl=cross_val_score(bgcl,x,y,cv=kfold,scoring='r2')\n",
    "print(results_bgcl)\n",
    "print('='*50)\n",
    "print(np.mean(abs(results_bgcl)))"
   ]
  },
  {
   "cell_type": "markdown",
   "metadata": {},
   "source": [
    "#### Applying Grid Search and Random Search on a few selected models ####\n",
    "\n",
    "**Hyperparameter tuning techniques - Grid Search**\n",
    "\n",
    "1. We run Grid Search technique on the best models (highest accuracy)so far  to see if they perform any better after the hyperparameters are tuned with the parameter grid that we have provided.\n",
    "2. We rank the models based on the test score and the one with rank 1 is picked and the corresponding hyper parameters are taken to fit to the algorithms to see how the accuracy(R^2) and RMSE have improved ,with the best estimator.\n",
    "3. Append the results of the algorithm to the existing metrics performance data frame .\n",
    "4. In our case we do this with Random forest and Gradient Boost algorithms and print the results ."
   ]
  },
  {
   "cell_type": "code",
   "execution_count": null,
   "metadata": {},
   "outputs": [],
   "source": [
    "from sklearn.model_selection import GridSearchCV\n",
    "\n",
    "\n",
    "# GridSearchCV on Random Forest Regressor\n",
    "\n",
    "folds = KFold(n_splits = 5, shuffle = True, random_state = 100)\n",
    "\n",
    "parameters={'max_depth':range(1,50,1),'min_samples_leaf':[1,2,3,4,5,6]}\n",
    "rf_gs = GridSearchCV(rf,parameters,cv=folds,scoring='r2')\n",
    "\n",
    "rf_gs.fit(x_train,y_train)\n",
    "\n",
    "rf_gs.best_params_\n",
    "\n",
    "ranking_matrix=pd.DataFrame(rf_gs.cv_results_)\n",
    "ranking_matrix.head()\n",
    "#ranking_matrix"
   ]
  },
  {
   "cell_type": "code",
   "execution_count": null,
   "metadata": {},
   "outputs": [],
   "source": [
    "ranking_matrix[ranking_matrix['rank_test_score']==1]"
   ]
  },
  {
   "cell_type": "code",
   "execution_count": null,
   "metadata": {},
   "outputs": [],
   "source": [
    "rf_gs.best_params_"
   ]
  },
  {
   "cell_type": "code",
   "execution_count": null,
   "metadata": {},
   "outputs": [],
   "source": [
    "rf_gs.best_estimator_"
   ]
  },
  {
   "cell_type": "code",
   "execution_count": null,
   "metadata": {},
   "outputs": [],
   "source": [
    "rf_tuned=RandomForestRegressor(max_depth=13,min_samples_leaf=1,n_estimators=100)\n",
    "run_algorithm(rf_tuned,x_train,y_train,x_test,y_test,'RandomForest-GridCV-tuned')"
   ]
  },
  {
   "cell_type": "markdown",
   "metadata": {},
   "source": [
    "###### Gradient Boost ######"
   ]
  },
  {
   "cell_type": "code",
   "execution_count": null,
   "metadata": {},
   "outputs": [],
   "source": [
    "folds = KFold(n_splits = 5, shuffle = True, random_state = 100)\n",
    "\n",
    "parameters={'max_depth':range(1,50,1),'min_samples_leaf':[1,2,3,4,5,6]}\n",
    "gbcl_gs = GridSearchCV(gbcl,parameters,cv=folds,scoring='r2')\n",
    "\n",
    "gbcl_gs.fit(x_train,y_train)\n",
    "\n",
    "\n",
    "ranking_matrix=pd.DataFrame(rf_gs.cv_results_)\n",
    "ranking_matrix.head()"
   ]
  },
  {
   "cell_type": "code",
   "execution_count": null,
   "metadata": {},
   "outputs": [],
   "source": [
    "gbcl_gs.best_params_"
   ]
  },
  {
   "cell_type": "code",
   "execution_count": null,
   "metadata": {},
   "outputs": [],
   "source": [
    "gbcl_gs.best_estimator_"
   ]
  },
  {
   "cell_type": "code",
   "execution_count": null,
   "metadata": {},
   "outputs": [],
   "source": [
    "gbcl_tuned=GradientBoostingRegressor(max_depth=7,min_samples_leaf=6,n_estimators=100)\n",
    "run_algorithm(gbcl_tuned,x_train,y_train,x_test,y_test,'GBCL-GridCV-tuned')"
   ]
  },
  {
   "cell_type": "markdown",
   "metadata": {},
   "source": [
    "##### Randomized Search #####\n",
    "\n",
    "**Hyperparameter tuning techniques - Randomized Search**\n",
    "\n",
    "1. We run Grid Search technique on the best models (highest accuracy)so far  to see if they perform any better after the hyperparameters are tuned with the parameters provided.\n",
    "2. We rank the models based on the test score and the one with rank 1 is picked and the corresponding hyper parameters are taken to fit to the algorithms to see how the accuracy(R^2) and RMSE have improved ,with the best estimator.\n",
    "3. Append the results of the algorithm to the existing metrics performance data frame .\n",
    "4. In our case we do this with Random forest and Gradient Boost algorithms and print the results ."
   ]
  },
  {
   "cell_type": "code",
   "execution_count": null,
   "metadata": {},
   "outputs": [],
   "source": [
    "from sklearn.model_selection import RandomizedSearchCV"
   ]
  },
  {
   "cell_type": "markdown",
   "metadata": {},
   "source": [
    "##### RandomForest #####"
   ]
  },
  {
   "cell_type": "code",
   "execution_count": null,
   "metadata": {},
   "outputs": [],
   "source": [
    "folds = KFold(n_splits = 5, shuffle = True, random_state = 100)\n",
    "\n",
    "parameters={'max_depth':range(1,50,1),'min_samples_leaf':[1,2,3,4,5,6],'n_estimators':[100,300,500]}\n",
    "\n",
    "rf_rs=RandomizedSearchCV(rf,parameters,cv=folds,scoring='r2',random_state=42)\n",
    "\n",
    "rf_rs.fit(x_train,y_train)\n",
    "\n",
    "\n",
    "ranking_matrix_rs=pd.DataFrame(rf_rs.cv_results_)\n",
    "ranking_matrix_rs.head()"
   ]
  },
  {
   "cell_type": "code",
   "execution_count": null,
   "metadata": {},
   "outputs": [],
   "source": [
    "rf_rs.best_params_"
   ]
  },
  {
   "cell_type": "code",
   "execution_count": null,
   "metadata": {},
   "outputs": [],
   "source": [
    "rf_rs.best_estimator_"
   ]
  },
  {
   "cell_type": "code",
   "execution_count": null,
   "metadata": {},
   "outputs": [],
   "source": [
    "rf_randomizedsearch=RandomForestRegressor(max_depth=13,min_samples_leaf=1,n_estimators=500,random_state=42)\n",
    "run_algorithm(rf_randomizedsearch,x_train,y_train,x_test,y_test,'RandomForest-RandomizedSearch')"
   ]
  },
  {
   "cell_type": "markdown",
   "metadata": {},
   "source": [
    "###### GradientBoost Regressor"
   ]
  },
  {
   "cell_type": "code",
   "execution_count": null,
   "metadata": {},
   "outputs": [],
   "source": [
    "gbcl.get_params"
   ]
  },
  {
   "cell_type": "code",
   "execution_count": null,
   "metadata": {},
   "outputs": [],
   "source": [
    "folds = KFold(n_splits = 5, shuffle = True, random_state = 100)\n",
    "\n",
    "parameters={'max_depth':range(1,50,1),'min_samples_leaf':[1,2,3,4,5,6],'n_estimators':[100,300,500]}\n",
    "\n",
    "gbcl_rs=RandomizedSearchCV(gbcl,parameters,cv=folds,random_state=42)\n",
    "\n",
    "gbcl_rs.fit(x_train,y_train)\n",
    "\n",
    "ranking_matrix_rs=pd.DataFrame(gbcl_rs.cv_results_)\n",
    "ranking_matrix_rs.head()"
   ]
  },
  {
   "cell_type": "code",
   "execution_count": null,
   "metadata": {},
   "outputs": [],
   "source": [
    "gbcl_rs.best_params_"
   ]
  },
  {
   "cell_type": "code",
   "execution_count": null,
   "metadata": {},
   "outputs": [],
   "source": [
    "gbcl_rs.best_estimator_"
   ]
  },
  {
   "cell_type": "code",
   "execution_count": null,
   "metadata": {},
   "outputs": [],
   "source": [
    "gbcl_randomizedsearch=GradientBoostingRegressor(max_depth=3,min_samples_leaf=3,n_estimators=500,random_state=42)\n",
    "run_algorithm(gbcl_randomizedsearch,x_train,y_train,x_test,y_test,'GradientBoostingRegressor-RandomizedSearch')"
   ]
  },
  {
   "cell_type": "markdown",
   "metadata": {},
   "source": [
    "##### Feature Importances #####"
   ]
  },
  {
   "cell_type": "markdown",
   "metadata": {},
   "source": [
    "Printing the feature importances using the best models "
   ]
  },
  {
   "cell_type": "markdown",
   "metadata": {},
   "source": [
    "##### GradientBoostRegressor - feature importances #####"
   ]
  },
  {
   "cell_type": "code",
   "execution_count": null,
   "metadata": {},
   "outputs": [],
   "source": [
    "featureimportance=gbcl_randomizedsearch.feature_importances_"
   ]
  },
  {
   "cell_type": "code",
   "execution_count": null,
   "metadata": {},
   "outputs": [],
   "source": [
    "featureimportance"
   ]
  },
  {
   "cell_type": "code",
   "execution_count": null,
   "metadata": {},
   "outputs": [],
   "source": [
    "# View a list of the features and their importance scores\n",
    "indices = np.argsort(featureimportance)[::-1][:15]\n",
    "a = data.columns[:]\n",
    "features= a.drop('strength',1)\n",
    "#plot it\n",
    "plt.figure(figsize=(10,10))\n",
    "plt.title('Feature Importances')\n",
    "plt.barh(range(len(indices)), featureimportance[indices], color='b', align='center')\n",
    "plt.yticks(range(len(indices)), features[indices])\n",
    "plt.xlabel('Relative Importance')\n",
    "plt.show()"
   ]
  },
  {
   "cell_type": "markdown",
   "metadata": {},
   "source": [
    "#### Random forest - feature importance ####"
   ]
  },
  {
   "cell_type": "code",
   "execution_count": null,
   "metadata": {},
   "outputs": [],
   "source": [
    "\n",
    "featureimportance_rf=rf_tuned.feature_importances_"
   ]
  },
  {
   "cell_type": "code",
   "execution_count": null,
   "metadata": {},
   "outputs": [],
   "source": [
    "featureimportance_rf"
   ]
  },
  {
   "cell_type": "code",
   "execution_count": null,
   "metadata": {},
   "outputs": [],
   "source": [
    "# View a list of the features and their importance scores\n",
    "indices = np.argsort(featureimportance_rf)[::-1][:15]\n",
    "a = data.columns[:]\n",
    "features= a.drop('strength',1)\n",
    "#plot it\n",
    "plt.figure(figsize=(10,10))\n",
    "plt.title('Feature Importances')\n",
    "plt.barh(range(len(indices)), featureimportance_rf[indices], color='b', align='center')\n",
    "plt.yticks(range(len(indices)), features[indices])\n",
    "plt.xlabel('Relative Importance')\n",
    "plt.show()"
   ]
  },
  {
   "cell_type": "markdown",
   "metadata": {},
   "source": [
    "**Obesrvations**\n",
    "\n",
    "For both best models,RandomForest,GradientBoostingRegressor after using the hyper parameter techniques the most important features have turned out to be W/C,Age,Slag,Superplastic,fineagg,coarseagg & ash.\n"
   ]
  },
  {
   "cell_type": "markdown",
   "metadata": {},
   "source": [
    "###### Score comparison ######"
   ]
  },
  {
   "cell_type": "code",
   "execution_count": null,
   "metadata": {},
   "outputs": [],
   "source": [
    "Algorithm_name=[]\n",
    "Train_R2score=[]\n",
    "Test_R2score=[]\n",
    "MAE=[]\n",
    "MSE=[]"
   ]
  },
  {
   "cell_type": "code",
   "execution_count": null,
   "metadata": {},
   "outputs": [],
   "source": [
    "score_matrix=pd.DataFrame(data={'Algorithm':Algorithm_name,\n",
    "      'Train_R2':Train_R2score,\n",
    "      'Test_R2':Test_R2score,\n",
    "       'MSE':MSE, \n",
    "    'RMSE':RMSE                        \n",
    "      })\n",
    "\n",
    "print(score_matrix)"
   ]
  },
  {
   "cell_type": "markdown",
   "metadata": {},
   "source": [
    "##### Conclusions #####"
   ]
  },
  {
   "cell_type": "markdown",
   "metadata": {},
   "source": [
    "\n",
    "  1. We performed EDA to understand how the individual features were distributed and how the variables interacted with each other,we treated the data for outliers.\n",
    "  2. We experimented the performance of the models with and without the introduction of the variable ,W/C (Water to cement ratio) to see how they varied,since there wasn't sigbnificant information loss ,we have decided to keep W/C variable and as a result our mmodels fit better than without the feature.We dropped unneccessary variables.\n",
    "  3. The feature importances show that the most important features for the models that have best scores are W/C,Age,Slag,Superplastic,fineagg.Coarseagg & ash are relatively lesser important features.\n",
    "  4. We used cross validation method to compare linear and non-linear/tree-based models on training and validation sets. \n",
    "  5. We used multiple linear regression models along with advanced models .We also used polynomial features with degree 2 and degree 3 to see any improvement in performance or R^2 values.which we found to be true with increasing degree(degree 3 >degree 2>simple linear model)\n",
    "  6. We tried both Randomized search and Grid Search to see which hyperparameter tuning technique showed us the best hyperparameter combination to show an optimal RMSE value with improve test R^2 .We see that there's an improvement and overfitting gone down with different combination of hyperparameters ,although not the best ,we are close to the optimal value for Gradient Boosting Regressor - Randomized Search.\n",
    "  7. The score dataframe gives us a good way to compare the performance metrics of differet algorithms .\n",
    "  8. The best models from the metrics dataframe above is the Gradient boosting algorithm ,with the RMSE at the least compared to the other models .\n",
    "  9. Ridge degree 3,Linear Regression degree 3 gives a very good model too along with RandomForest have a low RMSE value too.\n",
    "    "
   ]
  }
 ],
 "metadata": {
  "kernelspec": {
   "display_name": "Python 3",
   "language": "python",
   "name": "python3"
  },
  "language_info": {
   "codemirror_mode": {
    "name": "ipython",
    "version": 3
   },
   "file_extension": ".py",
   "mimetype": "text/x-python",
   "name": "python",
   "nbconvert_exporter": "python",
   "pygments_lexer": "ipython3",
   "version": "3.7.6"
  }
 },
 "nbformat": 4,
 "nbformat_minor": 4
}
